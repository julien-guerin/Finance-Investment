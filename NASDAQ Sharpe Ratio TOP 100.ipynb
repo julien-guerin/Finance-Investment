{
 "cells": [
  {
   "cell_type": "markdown",
   "metadata": {},
   "source": [
    "NASDAQ Sharpe Ratio analysis"
   ]
  },
  {
   "cell_type": "markdown",
   "metadata": {},
   "source": [
    "In this study we'll compute the Sharpe Ratio for the top 100 stocks of the NASDAQ (in term of market capitalisation), and see if some represent good investment opportunities. "
   ]
  },
  {
   "cell_type": "code",
   "execution_count": 1,
   "metadata": {},
   "outputs": [],
   "source": [
    "import pandas as pd\n",
    "import matplotlib.pyplot as plt \n",
    "from pandas_datareader.data import DataReader\n",
    "from datetime import date\n",
    "import quandl\n",
    "\n",
    "plt.style.use('fivethirtyeight')\n",
    "%matplotlib inline"
   ]
  },
  {
   "cell_type": "markdown",
   "metadata": {},
   "source": [
    "IMPORTING DATA "
   ]
  },
  {
   "cell_type": "markdown",
   "metadata": {},
   "source": [
    "First, we need the stock market value of the NASDAQ, which will play the role of the benchmark in our analysis."
   ]
  },
  {
   "cell_type": "code",
   "execution_count": 2,
   "metadata": {
    "scrolled": true
   },
   "outputs": [
    {
     "data": {
      "text/plain": [
       "<matplotlib.axes._subplots.AxesSubplot at 0x17523f29588>"
      ]
     },
     "execution_count": 2,
     "metadata": {},
     "output_type": "execute_result"
    },
    {
     "data": {
      "image/png": "[encoded data removed]",
      "text/plain": [
       "<Figure size 432x288 with 1 Axes>"
      ]
     },
     "metadata": {
      "needs_background": "light"
     },
     "output_type": "display_data"
    }
   ],
   "source": [
    "# Get the financial data of the NASDAQ\n",
    "\n",
    "start = date(2015, 1, 1)\n",
    "end = date(2019, 1, 1)\n",
    "\n",
    "index_ref = quandl.get('NASDAQOMX/COMP-NASDAQ', start_date = start, end_date = end)['Index Value']\n",
    "index_ref.plot(linewidth = 1, title = 'NASDAQ Index Value')"
   ]
  },
  {
   "cell_type": "markdown",
   "metadata": {},
   "source": [
    "Now we need to gather the stock's financial data."
   ]
  },
  {
   "cell_type": "code",
   "execution_count": 3,
   "metadata": {},
   "outputs": [
    {
     "data": {
      "text/html": [
       "<div>\n",
       "<style scoped>\n",
       "    .dataframe tbody tr th:only-of-type {\n",
       "        vertical-align: middle;\n",
       "    }\n",
       "\n",
       "    .dataframe tbody tr th {\n",
       "        vertical-align: top;\n",
       "    }\n",
       "\n",
       "    .dataframe thead th {\n",
       "        text-align: right;\n",
       "    }\n",
       "</style>\n",
       "<table border=\"1\" class=\"dataframe\">\n",
       "  <thead>\n",
       "    <tr style=\"text-align: right;\">\n",
       "      <th></th>\n",
       "      <th>Company Name</th>\n",
       "      <th>Sector</th>\n",
       "      <th>Industry</th>\n",
       "    </tr>\n",
       "    <tr>\n",
       "      <th>Stock Symbol</th>\n",
       "      <th></th>\n",
       "      <th></th>\n",
       "      <th></th>\n",
       "    </tr>\n",
       "  </thead>\n",
       "  <tbody>\n",
       "    <tr>\n",
       "      <th>AAPL</th>\n",
       "      <td>Apple Inc.</td>\n",
       "      <td>Technology</td>\n",
       "      <td>Computer Manufacturing</td>\n",
       "    </tr>\n",
       "    <tr>\n",
       "      <th>GOOGL</th>\n",
       "      <td>Alphabet Inc.</td>\n",
       "      <td>Technology</td>\n",
       "      <td>Computer Software: Programming, Data Processing</td>\n",
       "    </tr>\n",
       "    <tr>\n",
       "      <th>GOOG</th>\n",
       "      <td>Alphabet Inc.</td>\n",
       "      <td>Technology</td>\n",
       "      <td>Computer Software: Programming, Data Processing</td>\n",
       "    </tr>\n",
       "    <tr>\n",
       "      <th>MSFT</th>\n",
       "      <td>Microsoft Corporation</td>\n",
       "      <td>Technology</td>\n",
       "      <td>Computer Software: Prepackaged Software</td>\n",
       "    </tr>\n",
       "    <tr>\n",
       "      <th>AMZN</th>\n",
       "      <td>Amazon.com, Inc.</td>\n",
       "      <td>Consumer Services</td>\n",
       "      <td>Catalog/Specialty Distribution</td>\n",
       "    </tr>\n",
       "  </tbody>\n",
       "</table>\n",
       "</div>"
      ],
      "text/plain": [
       "                       Company Name             Sector  \\\n",
       "Stock Symbol                                             \n",
       "AAPL                     Apple Inc.         Technology   \n",
       "GOOGL                 Alphabet Inc.         Technology   \n",
       "GOOG                  Alphabet Inc.         Technology   \n",
       "MSFT          Microsoft Corporation         Technology   \n",
       "AMZN               Amazon.com, Inc.  Consumer Services   \n",
       "\n",
       "                                                     Industry  \n",
       "Stock Symbol                                                   \n",
       "AAPL                                   Computer Manufacturing  \n",
       "GOOGL         Computer Software: Programming, Data Processing  \n",
       "GOOG          Computer Software: Programming, Data Processing  \n",
       "MSFT                  Computer Software: Prepackaged Software  \n",
       "AMZN                           Catalog/Specialty Distribution  "
      ]
     },
     "execution_count": 3,
     "metadata": {},
     "output_type": "execute_result"
    }
   ],
   "source": [
    "# Getting the stocks data\n",
    "\n",
    "stocks_data = pd.read_excel(r'Listings.xlsx', index_col = 0, sheet_name='nasdaq')\n",
    "\n",
    "stocks_data.head()"
   ]
  },
  {
   "cell_type": "markdown",
   "metadata": {},
   "source": [
    "BASIC INSIGHT OF THE DATA"
   ]
  },
  {
   "cell_type": "code",
   "execution_count": 4,
   "metadata": {},
   "outputs": [
    {
     "name": "stdout",
     "output_type": "stream",
     "text": [
      "<class 'pandas.core.frame.DataFrame'>\n",
      "Index: 3163 entries, AAPL to ZIONZ\n",
      "Data columns (total 3 columns):\n",
      "Company Name    3163 non-null object\n",
      "Sector          2763 non-null object\n",
      "Industry        2763 non-null object\n",
      "dtypes: object(3)\n",
      "memory usage: 98.8+ KB\n"
     ]
    },
    {
     "data": {
      "text/html": [
       "<div>\n",
       "<style scoped>\n",
       "    .dataframe tbody tr th:only-of-type {\n",
       "        vertical-align: middle;\n",
       "    }\n",
       "\n",
       "    .dataframe tbody tr th {\n",
       "        vertical-align: top;\n",
       "    }\n",
       "\n",
       "    .dataframe thead th {\n",
       "        text-align: right;\n",
       "    }\n",
       "</style>\n",
       "<table border=\"1\" class=\"dataframe\">\n",
       "  <thead>\n",
       "    <tr style=\"text-align: right;\">\n",
       "      <th></th>\n",
       "      <th>Company Name</th>\n",
       "      <th>Sector</th>\n",
       "      <th>Industry</th>\n",
       "    </tr>\n",
       "  </thead>\n",
       "  <tbody>\n",
       "    <tr>\n",
       "      <th>count</th>\n",
       "      <td>3163</td>\n",
       "      <td>2763</td>\n",
       "      <td>2763</td>\n",
       "    </tr>\n",
       "    <tr>\n",
       "      <th>unique</th>\n",
       "      <td>2885</td>\n",
       "      <td>12</td>\n",
       "      <td>127</td>\n",
       "    </tr>\n",
       "    <tr>\n",
       "      <th>top</th>\n",
       "      <td>Liberty Media Corporation</td>\n",
       "      <td>Health Care</td>\n",
       "      <td>Major Pharmaceuticals</td>\n",
       "    </tr>\n",
       "    <tr>\n",
       "      <th>freq</th>\n",
       "      <td>6</td>\n",
       "      <td>645</td>\n",
       "      <td>349</td>\n",
       "    </tr>\n",
       "  </tbody>\n",
       "</table>\n",
       "</div>"
      ],
      "text/plain": [
       "                     Company Name       Sector               Industry\n",
       "count                        3163         2763                   2763\n",
       "unique                       2885           12                    127\n",
       "top     Liberty Media Corporation  Health Care  Major Pharmaceuticals\n",
       "freq                            6          645                    349"
      ]
     },
     "execution_count": 4,
     "metadata": {},
     "output_type": "execute_result"
    }
   ],
   "source": [
    "stocks_data.info()\n",
    "stocks_data.describe()"
   ]
  },
  {
   "cell_type": "markdown",
   "metadata": {},
   "source": [
    "As we can see, there are 400 missing values in the \"Sector\" and \"Industry\" columns, and their dtype is 'object'.\n",
    "\n",
    "We'll choose the 'category' dtype instead, to save memory.\n",
    "The missing values mostly correspond to ETFs (or trackers : an fund that replicates a large market index), not company stocks : we can drop them.\n",
    "\n",
    "Also there is duplicates in the company names that we want to get rid of. "
   ]
  },
  {
   "cell_type": "markdown",
   "metadata": {},
   "source": [
    "DATA CLEANING"
   ]
  },
  {
   "cell_type": "code",
   "execution_count": 5,
   "metadata": {},
   "outputs": [
    {
     "name": "stdout",
     "output_type": "stream",
     "text": [
      "<class 'pandas.core.frame.DataFrame'>\n",
      "Index: 2507 entries, AAPL to VVPR\n",
      "Data columns (total 3 columns):\n",
      "Company Name    2507 non-null object\n",
      "Sector          2507 non-null category\n",
      "Industry        2507 non-null category\n",
      "dtypes: category(2), object(1)\n",
      "memory usage: 52.9+ KB\n"
     ]
    }
   ],
   "source": [
    "stocks_data['Sector'] = stocks_data['Sector'].astype('category')\n",
    "stocks_data['Industry'] = stocks_data['Industry'].astype('category')\n",
    "\n",
    "stocks_data = stocks_data.drop_duplicates()\n",
    "stocks_data = stocks_data.dropna()\n",
    "\n",
    "stocks_data.info()    # we just saved 46KB of memory"
   ]
  },
  {
   "cell_type": "markdown",
   "metadata": {},
   "source": [
    "If you want to check the list of duplicates and missing values, to decide whether to keep them or not, you can use the following code : \n",
    "\n",
    "    duplicates = stocks_data[stocks_data['Company Name'].duplicated(keep=False)]\n",
    "\n",
    "    missing_values = stocks_data[stocks_data.isnull().any(axis=1)]"
   ]
  },
  {
   "cell_type": "markdown",
   "metadata": {},
   "source": [
    "DATA ANALYSIS"
   ]
  },
  {
   "cell_type": "markdown",
   "metadata": {},
   "source": [
    "Now we have a clean dataset with no duplicates or missing values. We can start the financial analysis.\n",
    "\n",
    "In the Sharpe Ratio formula, we need the daily average rate of return of a stock and its volatility (standard deviation of the market price) to make comparison with the index daily performance.\n",
    "\n",
    "We'll use the pandas_datareader library to import the daily price of each stock of the NASDAQ."
   ]
  },
  {
   "cell_type": "code",
   "execution_count": 6,
   "metadata": {},
   "outputs": [
    {
     "data": {
      "text/plain": [
       "['AAPL', 'GOOGL', 'MSFT', 'AMZN', 'FB', 'CMCSA', 'INTC', 'CSCO', 'AMGN', 'KHC']"
      ]
     },
     "execution_count": 6,
     "metadata": {},
     "output_type": "execute_result"
    }
   ],
   "source": [
    "# List of the stocks tickers\n",
    "\n",
    "stocks_ticker = stocks_data.index.tolist()\n",
    "\n",
    "stocks_ticker[:10]"
   ]
  },
  {
   "cell_type": "code",
   "execution_count": 7,
   "metadata": {},
   "outputs": [
    {
     "data": {
      "text/plain": [
       "<matplotlib.axes._subplots.AxesSubplot at 0x17529bd0668>"
      ]
     },
     "execution_count": 7,
     "metadata": {},
     "output_type": "execute_result"
    },
    {
     "data": {
      "image/png": "[encoded data removed]",
      "text/plain": [
       "<Figure size 720x360 with 2 Axes>"
      ]
     },
     "metadata": {
      "needs_background": "light"
     },
     "output_type": "display_data"
    }
   ],
   "source": [
    "ticker1 = stocks_ticker[:50]  # IEX symbol list is limited to 100 elements : we must operate 2 selections\n",
    "\n",
    "stocks1 = DataReader(ticker1, 'iex', start, end)['close']\n",
    "\n",
    "df = stocks1[['AAPL', 'AMZN']]\n",
    "df.index = pd.to_datetime(df.index)   # to show the date on the x-axis\n",
    "\n",
    "df.AAPL.plot(figsize=(10, 5), label=\"Apple\", legend=True, linewidth = 1)\n",
    "df.AMZN.plot(secondary_y=True, figsize=(10, 5), label=\"Amazon\", legend=True, linewidth = 1)  # secondary_y plot 2 charts on the same graph"
   ]
  },
  {
   "cell_type": "code",
   "execution_count": 8,
   "metadata": {},
   "outputs": [
    {
     "data": {
      "text/html": [
       "<div>\n",
       "<style scoped>\n",
       "    .dataframe tbody tr th:only-of-type {\n",
       "        vertical-align: middle;\n",
       "    }\n",
       "\n",
       "    .dataframe tbody tr th {\n",
       "        vertical-align: top;\n",
       "    }\n",
       "\n",
       "    .dataframe thead th {\n",
       "        text-align: right;\n",
       "    }\n",
       "</style>\n",
       "<table border=\"1\" class=\"dataframe\">\n",
       "  <thead>\n",
       "    <tr style=\"text-align: right;\">\n",
       "      <th>Symbols</th>\n",
       "      <th>AAPL</th>\n",
       "      <th>ADBE</th>\n",
       "      <th>ADP</th>\n",
       "      <th>AMAT</th>\n",
       "      <th>AMGN</th>\n",
       "      <th>AMOV</th>\n",
       "      <th>AMZN</th>\n",
       "      <th>ATVI</th>\n",
       "      <th>AVGO</th>\n",
       "      <th>BIDU</th>\n",
       "      <th>...</th>\n",
       "      <th>SWKS</th>\n",
       "      <th>SYMC</th>\n",
       "      <th>TROW</th>\n",
       "      <th>ULTA</th>\n",
       "      <th>VIA</th>\n",
       "      <th>VRSK</th>\n",
       "      <th>WDC</th>\n",
       "      <th>WLTW</th>\n",
       "      <th>XLNX</th>\n",
       "      <th>XRAY</th>\n",
       "    </tr>\n",
       "    <tr>\n",
       "      <th>date</th>\n",
       "      <th></th>\n",
       "      <th></th>\n",
       "      <th></th>\n",
       "      <th></th>\n",
       "      <th></th>\n",
       "      <th></th>\n",
       "      <th></th>\n",
       "      <th></th>\n",
       "      <th></th>\n",
       "      <th></th>\n",
       "      <th></th>\n",
       "      <th></th>\n",
       "      <th></th>\n",
       "      <th></th>\n",
       "      <th></th>\n",
       "      <th></th>\n",
       "      <th></th>\n",
       "      <th></th>\n",
       "      <th></th>\n",
       "      <th></th>\n",
       "      <th></th>\n",
       "    </tr>\n",
       "  </thead>\n",
       "  <tbody>\n",
       "    <tr>\n",
       "      <th>2015-01-02</th>\n",
       "      <td>101.5280</td>\n",
       "      <td>72.340</td>\n",
       "      <td>75.6402</td>\n",
       "      <td>23.3365</td>\n",
       "      <td>143.2089</td>\n",
       "      <td>18.9165</td>\n",
       "      <td>308.52</td>\n",
       "      <td>19.5442</td>\n",
       "      <td>91.7187</td>\n",
       "      <td>223.080</td>\n",
       "      <td>...</td>\n",
       "      <td>69.2094</td>\n",
       "      <td>19.1659</td>\n",
       "      <td>74.3095</td>\n",
       "      <td>126.84</td>\n",
       "      <td>67.8740</td>\n",
       "      <td>63.8458</td>\n",
       "      <td>97.7303</td>\n",
       "      <td>NaN</td>\n",
       "      <td>39.4566</td>\n",
       "      <td>50.6767</td>\n",
       "    </tr>\n",
       "    <tr>\n",
       "      <th>2015-01-05</th>\n",
       "      <td>98.6678</td>\n",
       "      <td>71.980</td>\n",
       "      <td>75.5857</td>\n",
       "      <td>22.5885</td>\n",
       "      <td>141.5071</td>\n",
       "      <td>18.7244</td>\n",
       "      <td>302.19</td>\n",
       "      <td>19.2723</td>\n",
       "      <td>90.2525</td>\n",
       "      <td>219.785</td>\n",
       "      <td>...</td>\n",
       "      <td>68.0861</td>\n",
       "      <td>18.8963</td>\n",
       "      <td>72.6026</td>\n",
       "      <td>127.15</td>\n",
       "      <td>66.0211</td>\n",
       "      <td>63.0174</td>\n",
       "      <td>96.4382</td>\n",
       "      <td>NaN</td>\n",
       "      <td>38.7281</td>\n",
       "      <td>50.3254</td>\n",
       "    </tr>\n",
       "    <tr>\n",
       "      <th>2015-01-06</th>\n",
       "      <td>98.6771</td>\n",
       "      <td>70.530</td>\n",
       "      <td>74.9545</td>\n",
       "      <td>21.7377</td>\n",
       "      <td>136.9481</td>\n",
       "      <td>18.6022</td>\n",
       "      <td>295.29</td>\n",
       "      <td>18.9131</td>\n",
       "      <td>88.1999</td>\n",
       "      <td>220.180</td>\n",
       "      <td>...</td>\n",
       "      <td>65.9150</td>\n",
       "      <td>18.6042</td>\n",
       "      <td>71.3202</td>\n",
       "      <td>126.95</td>\n",
       "      <td>64.7708</td>\n",
       "      <td>62.7978</td>\n",
       "      <td>94.2877</td>\n",
       "      <td>NaN</td>\n",
       "      <td>38.1716</td>\n",
       "      <td>49.7009</td>\n",
       "    </tr>\n",
       "    <tr>\n",
       "      <th>2015-01-07</th>\n",
       "      <td>100.0607</td>\n",
       "      <td>71.110</td>\n",
       "      <td>75.6129</td>\n",
       "      <td>21.9387</td>\n",
       "      <td>141.7310</td>\n",
       "      <td>19.0736</td>\n",
       "      <td>298.42</td>\n",
       "      <td>18.5005</td>\n",
       "      <td>90.5824</td>\n",
       "      <td>224.350</td>\n",
       "      <td>...</td>\n",
       "      <td>67.0006</td>\n",
       "      <td>18.7764</td>\n",
       "      <td>72.3686</td>\n",
       "      <td>130.58</td>\n",
       "      <td>64.2401</td>\n",
       "      <td>62.8377</td>\n",
       "      <td>95.7037</td>\n",
       "      <td>NaN</td>\n",
       "      <td>38.1851</td>\n",
       "      <td>50.9890</td>\n",
       "    </tr>\n",
       "    <tr>\n",
       "      <th>2015-01-08</th>\n",
       "      <td>103.9053</td>\n",
       "      <td>72.915</td>\n",
       "      <td>77.3475</td>\n",
       "      <td>22.6399</td>\n",
       "      <td>141.2205</td>\n",
       "      <td>19.4926</td>\n",
       "      <td>300.46</td>\n",
       "      <td>18.6898</td>\n",
       "      <td>95.1092</td>\n",
       "      <td>229.210</td>\n",
       "      <td>...</td>\n",
       "      <td>70.0400</td>\n",
       "      <td>19.1209</td>\n",
       "      <td>73.2264</td>\n",
       "      <td>132.24</td>\n",
       "      <td>65.1306</td>\n",
       "      <td>63.4665</td>\n",
       "      <td>97.6861</td>\n",
       "      <td>NaN</td>\n",
       "      <td>39.0358</td>\n",
       "      <td>52.2479</td>\n",
       "    </tr>\n",
       "  </tbody>\n",
       "</table>\n",
       "<p>5 rows × 100 columns</p>\n",
       "</div>"
      ],
      "text/plain": [
       "Symbols         AAPL    ADBE      ADP     AMAT      AMGN     AMOV    AMZN  \\\n",
       "date                                                                        \n",
       "2015-01-02  101.5280  72.340  75.6402  23.3365  143.2089  18.9165  308.52   \n",
       "2015-01-05   98.6678  71.980  75.5857  22.5885  141.5071  18.7244  302.19   \n",
       "2015-01-06   98.6771  70.530  74.9545  21.7377  136.9481  18.6022  295.29   \n",
       "2015-01-07  100.0607  71.110  75.6129  21.9387  141.7310  19.0736  298.42   \n",
       "2015-01-08  103.9053  72.915  77.3475  22.6399  141.2205  19.4926  300.46   \n",
       "\n",
       "Symbols        ATVI     AVGO     BIDU   ...        SWKS     SYMC     TROW  \\\n",
       "date                                    ...                                 \n",
       "2015-01-02  19.5442  91.7187  223.080   ...     69.2094  19.1659  74.3095   \n",
       "2015-01-05  19.2723  90.2525  219.785   ...     68.0861  18.8963  72.6026   \n",
       "2015-01-06  18.9131  88.1999  220.180   ...     65.9150  18.6042  71.3202   \n",
       "2015-01-07  18.5005  90.5824  224.350   ...     67.0006  18.7764  72.3686   \n",
       "2015-01-08  18.6898  95.1092  229.210   ...     70.0400  19.1209  73.2264   \n",
       "\n",
       "Symbols       ULTA      VIA     VRSK      WDC  WLTW     XLNX     XRAY  \n",
       "date                                                                   \n",
       "2015-01-02  126.84  67.8740  63.8458  97.7303   NaN  39.4566  50.6767  \n",
       "2015-01-05  127.15  66.0211  63.0174  96.4382   NaN  38.7281  50.3254  \n",
       "2015-01-06  126.95  64.7708  62.7978  94.2877   NaN  38.1716  49.7009  \n",
       "2015-01-07  130.58  64.2401  62.8377  95.7037   NaN  38.1851  50.9890  \n",
       "2015-01-08  132.24  65.1306  63.4665  97.6861   NaN  39.0358  52.2479  \n",
       "\n",
       "[5 rows x 100 columns]"
      ]
     },
     "execution_count": 8,
     "metadata": {},
     "output_type": "execute_result"
    }
   ],
   "source": [
    "ticker2 = stocks_ticker[50:101]\n",
    "stocks2 = DataReader(ticker2, 'iex', start, end)['close']\n",
    "\n",
    "stocks = pd.concat([stocks1, stocks2], axis = 1)  # we join the 2 50-elements dataframes\n",
    "stocks.head()"
   ]
  },
  {
   "cell_type": "markdown",
   "metadata": {},
   "source": [
    "We now have the daily stock prices. It's time to compute the average rate of return and the volatility !"
   ]
  },
  {
   "cell_type": "code",
   "execution_count": 9,
   "metadata": {},
   "outputs": [
    {
     "data": {
      "text/plain": [
       "count    1005.000000\n",
       "mean        0.039048\n",
       "std         1.028284\n",
       "min        -4.425388\n",
       "25%        -0.383917\n",
       "50%         0.077682\n",
       "75%         0.556671\n",
       "max         5.836342\n",
       "Name: Index Value, dtype: float64"
      ]
     },
     "execution_count": 9,
     "metadata": {},
     "output_type": "execute_result"
    },
    {
     "data": {
      "image/png": "[encoded data removed]",
      "text/plain": [
       "<Figure size 432x288 with 1 Axes>"
      ]
     },
     "metadata": {
      "needs_background": "light"
     },
     "output_type": "display_data"
    }
   ],
   "source": [
    "# Daily return of NASDAQ\n",
    "\n",
    "index_daily_return = index_ref.pct_change() * 100  # in %\n",
    "h_line_sup = index_daily_return.mean() + index_daily_return.std()  # range of daily return 1σ away from the mean\n",
    "h_line_inf = index_daily_return.mean() - index_daily_return.std()\n",
    "\n",
    "index_daily_return.plot(linewidth = 0.8, title='NASDAQ Daily Return')\n",
    "plt.axhline(y = h_line_sup, color = 'r', linestyle = ':', linewidth = 0.8)\n",
    "plt.axhline(y = h_line_inf, color = 'r', linestyle = ':', linewidth = 0.8)\n",
    "\n",
    "index_daily_return.describe()"
   ]
  },
  {
   "cell_type": "code",
   "execution_count": 10,
   "metadata": {},
   "outputs": [
    {
     "data": {
      "text/html": [
       "<div>\n",
       "<style scoped>\n",
       "    .dataframe tbody tr th:only-of-type {\n",
       "        vertical-align: middle;\n",
       "    }\n",
       "\n",
       "    .dataframe tbody tr th {\n",
       "        vertical-align: top;\n",
       "    }\n",
       "\n",
       "    .dataframe thead th {\n",
       "        text-align: right;\n",
       "    }\n",
       "</style>\n",
       "<table border=\"1\" class=\"dataframe\">\n",
       "  <thead>\n",
       "    <tr style=\"text-align: right;\">\n",
       "      <th>Symbols</th>\n",
       "      <th>AAPL</th>\n",
       "      <th>ADBE</th>\n",
       "      <th>ADP</th>\n",
       "      <th>AMAT</th>\n",
       "      <th>AMGN</th>\n",
       "      <th>AMOV</th>\n",
       "      <th>AMZN</th>\n",
       "      <th>ATVI</th>\n",
       "      <th>AVGO</th>\n",
       "      <th>BIDU</th>\n",
       "      <th>...</th>\n",
       "      <th>SWKS</th>\n",
       "      <th>SYMC</th>\n",
       "      <th>TROW</th>\n",
       "      <th>ULTA</th>\n",
       "      <th>VIA</th>\n",
       "      <th>VRSK</th>\n",
       "      <th>WDC</th>\n",
       "      <th>WLTW</th>\n",
       "      <th>XLNX</th>\n",
       "      <th>XRAY</th>\n",
       "    </tr>\n",
       "    <tr>\n",
       "      <th>date</th>\n",
       "      <th></th>\n",
       "      <th></th>\n",
       "      <th></th>\n",
       "      <th></th>\n",
       "      <th></th>\n",
       "      <th></th>\n",
       "      <th></th>\n",
       "      <th></th>\n",
       "      <th></th>\n",
       "      <th></th>\n",
       "      <th></th>\n",
       "      <th></th>\n",
       "      <th></th>\n",
       "      <th></th>\n",
       "      <th></th>\n",
       "      <th></th>\n",
       "      <th></th>\n",
       "      <th></th>\n",
       "      <th></th>\n",
       "      <th></th>\n",
       "      <th></th>\n",
       "    </tr>\n",
       "  </thead>\n",
       "  <tbody>\n",
       "    <tr>\n",
       "      <th>2015-01-02</th>\n",
       "      <td>NaN</td>\n",
       "      <td>NaN</td>\n",
       "      <td>NaN</td>\n",
       "      <td>NaN</td>\n",
       "      <td>NaN</td>\n",
       "      <td>NaN</td>\n",
       "      <td>NaN</td>\n",
       "      <td>NaN</td>\n",
       "      <td>NaN</td>\n",
       "      <td>NaN</td>\n",
       "      <td>...</td>\n",
       "      <td>NaN</td>\n",
       "      <td>NaN</td>\n",
       "      <td>NaN</td>\n",
       "      <td>NaN</td>\n",
       "      <td>NaN</td>\n",
       "      <td>NaN</td>\n",
       "      <td>NaN</td>\n",
       "      <td>NaN</td>\n",
       "      <td>NaN</td>\n",
       "      <td>NaN</td>\n",
       "    </tr>\n",
       "    <tr>\n",
       "      <th>2015-01-05</th>\n",
       "      <td>-2.817154</td>\n",
       "      <td>-0.497650</td>\n",
       "      <td>-0.072052</td>\n",
       "      <td>-3.205279</td>\n",
       "      <td>-1.188334</td>\n",
       "      <td>-1.015516</td>\n",
       "      <td>-2.051731</td>\n",
       "      <td>-1.391206</td>\n",
       "      <td>-1.598583</td>\n",
       "      <td>-1.477049</td>\n",
       "      <td>...</td>\n",
       "      <td>-1.623045</td>\n",
       "      <td>-1.406665</td>\n",
       "      <td>-2.297015</td>\n",
       "      <td>0.244402</td>\n",
       "      <td>-2.729911</td>\n",
       "      <td>-1.297501</td>\n",
       "      <td>-1.322108</td>\n",
       "      <td>NaN</td>\n",
       "      <td>-1.846332</td>\n",
       "      <td>-0.693218</td>\n",
       "    </tr>\n",
       "    <tr>\n",
       "      <th>2015-01-06</th>\n",
       "      <td>0.009426</td>\n",
       "      <td>-2.014448</td>\n",
       "      <td>-0.835079</td>\n",
       "      <td>-3.766518</td>\n",
       "      <td>-3.221746</td>\n",
       "      <td>-0.652624</td>\n",
       "      <td>-2.283332</td>\n",
       "      <td>-1.863815</td>\n",
       "      <td>-2.274286</td>\n",
       "      <td>0.179721</td>\n",
       "      <td>...</td>\n",
       "      <td>-3.188757</td>\n",
       "      <td>-1.545805</td>\n",
       "      <td>-1.766328</td>\n",
       "      <td>-0.157295</td>\n",
       "      <td>-1.893789</td>\n",
       "      <td>-0.348475</td>\n",
       "      <td>-2.229925</td>\n",
       "      <td>NaN</td>\n",
       "      <td>-1.436941</td>\n",
       "      <td>-1.240924</td>\n",
       "    </tr>\n",
       "    <tr>\n",
       "      <th>2015-01-07</th>\n",
       "      <td>1.402149</td>\n",
       "      <td>0.822345</td>\n",
       "      <td>0.878400</td>\n",
       "      <td>0.924661</td>\n",
       "      <td>3.492491</td>\n",
       "      <td>2.534109</td>\n",
       "      <td>1.059975</td>\n",
       "      <td>-2.181557</td>\n",
       "      <td>2.701250</td>\n",
       "      <td>1.893905</td>\n",
       "      <td>...</td>\n",
       "      <td>1.646970</td>\n",
       "      <td>0.925597</td>\n",
       "      <td>1.469990</td>\n",
       "      <td>2.859393</td>\n",
       "      <td>-0.819351</td>\n",
       "      <td>0.063537</td>\n",
       "      <td>1.501787</td>\n",
       "      <td>NaN</td>\n",
       "      <td>0.035367</td>\n",
       "      <td>2.591704</td>\n",
       "    </tr>\n",
       "    <tr>\n",
       "      <th>2015-01-08</th>\n",
       "      <td>3.842268</td>\n",
       "      <td>2.538321</td>\n",
       "      <td>2.294053</td>\n",
       "      <td>3.196178</td>\n",
       "      <td>-0.360189</td>\n",
       "      <td>2.196754</td>\n",
       "      <td>0.683600</td>\n",
       "      <td>1.023216</td>\n",
       "      <td>4.997439</td>\n",
       "      <td>2.166258</td>\n",
       "      <td>...</td>\n",
       "      <td>4.536377</td>\n",
       "      <td>1.834750</td>\n",
       "      <td>1.185321</td>\n",
       "      <td>1.271251</td>\n",
       "      <td>1.386206</td>\n",
       "      <td>1.000673</td>\n",
       "      <td>2.071393</td>\n",
       "      <td>NaN</td>\n",
       "      <td>2.227832</td>\n",
       "      <td>2.468964</td>\n",
       "    </tr>\n",
       "  </tbody>\n",
       "</table>\n",
       "<p>5 rows × 100 columns</p>\n",
       "</div>"
      ],
      "text/plain": [
       "Symbols         AAPL      ADBE       ADP      AMAT      AMGN      AMOV  \\\n",
       "date                                                                     \n",
       "2015-01-02       NaN       NaN       NaN       NaN       NaN       NaN   \n",
       "2015-01-05 -2.817154 -0.497650 -0.072052 -3.205279 -1.188334 -1.015516   \n",
       "2015-01-06  0.009426 -2.014448 -0.835079 -3.766518 -3.221746 -0.652624   \n",
       "2015-01-07  1.402149  0.822345  0.878400  0.924661  3.492491  2.534109   \n",
       "2015-01-08  3.842268  2.538321  2.294053  3.196178 -0.360189  2.196754   \n",
       "\n",
       "Symbols         AMZN      ATVI      AVGO      BIDU    ...         SWKS  \\\n",
       "date                                                  ...                \n",
       "2015-01-02       NaN       NaN       NaN       NaN    ...          NaN   \n",
       "2015-01-05 -2.051731 -1.391206 -1.598583 -1.477049    ...    -1.623045   \n",
       "2015-01-06 -2.283332 -1.863815 -2.274286  0.179721    ...    -3.188757   \n",
       "2015-01-07  1.059975 -2.181557  2.701250  1.893905    ...     1.646970   \n",
       "2015-01-08  0.683600  1.023216  4.997439  2.166258    ...     4.536377   \n",
       "\n",
       "Symbols         SYMC      TROW      ULTA       VIA      VRSK       WDC  WLTW  \\\n",
       "date                                                                           \n",
       "2015-01-02       NaN       NaN       NaN       NaN       NaN       NaN   NaN   \n",
       "2015-01-05 -1.406665 -2.297015  0.244402 -2.729911 -1.297501 -1.322108   NaN   \n",
       "2015-01-06 -1.545805 -1.766328 -0.157295 -1.893789 -0.348475 -2.229925   NaN   \n",
       "2015-01-07  0.925597  1.469990  2.859393 -0.819351  0.063537  1.501787   NaN   \n",
       "2015-01-08  1.834750  1.185321  1.271251  1.386206  1.000673  2.071393   NaN   \n",
       "\n",
       "Symbols         XLNX      XRAY  \n",
       "date                            \n",
       "2015-01-02       NaN       NaN  \n",
       "2015-01-05 -1.846332 -0.693218  \n",
       "2015-01-06 -1.436941 -1.240924  \n",
       "2015-01-07  0.035367  2.591704  \n",
       "2015-01-08  2.227832  2.468964  \n",
       "\n",
       "[5 rows x 100 columns]"
      ]
     },
     "execution_count": 10,
     "metadata": {},
     "output_type": "execute_result"
    },
    {
     "data": {
      "image/png": "[encoded data removed]",
      "text/plain": [
       "<Figure size 720x360 with 1 Axes>"
      ]
     },
     "metadata": {
      "needs_background": "light"
     },
     "output_type": "display_data"
    }
   ],
   "source": [
    "# Stocks daily return\n",
    "\n",
    "stocks_daily_return = stocks.pct_change() * 100   \n",
    "\n",
    "stocks_daily_return.iloc[:, :10].plot(figsize = (10, 5), title='Stocks Daily Return', kind = 'box')\n",
    "stocks_daily_return.head()"
   ]
  },
  {
   "cell_type": "code",
   "execution_count": 11,
   "metadata": {},
   "outputs": [
    {
     "data": {
      "text/html": [
       "<div>\n",
       "<style scoped>\n",
       "    .dataframe tbody tr th:only-of-type {\n",
       "        vertical-align: middle;\n",
       "    }\n",
       "\n",
       "    .dataframe tbody tr th {\n",
       "        vertical-align: top;\n",
       "    }\n",
       "\n",
       "    .dataframe thead th {\n",
       "        text-align: right;\n",
       "    }\n",
       "</style>\n",
       "<table border=\"1\" class=\"dataframe\">\n",
       "  <thead>\n",
       "    <tr style=\"text-align: right;\">\n",
       "      <th></th>\n",
       "      <th>Daily return in %</th>\n",
       "    </tr>\n",
       "    <tr>\n",
       "      <th>Symbols</th>\n",
       "      <th></th>\n",
       "    </tr>\n",
       "  </thead>\n",
       "  <tbody>\n",
       "    <tr>\n",
       "      <th>AAPL</th>\n",
       "      <td>0.055401</td>\n",
       "    </tr>\n",
       "    <tr>\n",
       "      <th>ADBE</th>\n",
       "      <td>0.127819</td>\n",
       "    </tr>\n",
       "    <tr>\n",
       "      <th>ADP</th>\n",
       "      <td>0.061952</td>\n",
       "    </tr>\n",
       "    <tr>\n",
       "      <th>AMAT</th>\n",
       "      <td>0.053061</td>\n",
       "    </tr>\n",
       "    <tr>\n",
       "      <th>AMGN</th>\n",
       "      <td>0.041093</td>\n",
       "    </tr>\n",
       "  </tbody>\n",
       "</table>\n",
       "</div>"
      ],
      "text/plain": [
       "         Daily return in %\n",
       "Symbols                   \n",
       "AAPL              0.055401\n",
       "ADBE              0.127819\n",
       "ADP               0.061952\n",
       "AMAT              0.053061\n",
       "AMGN              0.041093"
      ]
     },
     "execution_count": 11,
     "metadata": {},
     "output_type": "execute_result"
    }
   ],
   "source": [
    "# Average daily return\n",
    "\n",
    "avg_index_daily_return = index_daily_return.mean()\n",
    "avg_stocks_daily_return = stocks_daily_return.mean()  # 0.039%\n",
    "\n",
    "avg_stocks_daily_return_df = pd.DataFrame(avg_stocks_daily_return)\n",
    "avg_stocks_daily_return_df.columns = ['Daily return in %']\n",
    "\n",
    "avg_stocks_daily_return_df.head()"
   ]
  },
  {
   "cell_type": "code",
   "execution_count": 12,
   "metadata": {
    "scrolled": true
   },
   "outputs": [
    {
     "data": {
      "text/html": [
       "<div>\n",
       "<style scoped>\n",
       "    .dataframe tbody tr th:only-of-type {\n",
       "        vertical-align: middle;\n",
       "    }\n",
       "\n",
       "    .dataframe tbody tr th {\n",
       "        vertical-align: top;\n",
       "    }\n",
       "\n",
       "    .dataframe thead th {\n",
       "        text-align: right;\n",
       "    }\n",
       "</style>\n",
       "<table border=\"1\" class=\"dataframe\">\n",
       "  <thead>\n",
       "    <tr style=\"text-align: right;\">\n",
       "      <th></th>\n",
       "      <th>Volatility in %</th>\n",
       "    </tr>\n",
       "    <tr>\n",
       "      <th>Symbols</th>\n",
       "      <th></th>\n",
       "    </tr>\n",
       "  </thead>\n",
       "  <tbody>\n",
       "    <tr>\n",
       "      <th>AAPL</th>\n",
       "      <td>1.548310</td>\n",
       "    </tr>\n",
       "    <tr>\n",
       "      <th>ADBE</th>\n",
       "      <td>1.693239</td>\n",
       "    </tr>\n",
       "    <tr>\n",
       "      <th>ADP</th>\n",
       "      <td>1.242198</td>\n",
       "    </tr>\n",
       "    <tr>\n",
       "      <th>AMAT</th>\n",
       "      <td>1.993004</td>\n",
       "    </tr>\n",
       "    <tr>\n",
       "      <th>AMGN</th>\n",
       "      <td>1.502969</td>\n",
       "    </tr>\n",
       "  </tbody>\n",
       "</table>\n",
       "</div>"
      ],
      "text/plain": [
       "         Volatility in %\n",
       "Symbols                 \n",
       "AAPL            1.548310\n",
       "ADBE            1.693239\n",
       "ADP             1.242198\n",
       "AMAT            1.993004\n",
       "AMGN            1.502969"
      ]
     },
     "execution_count": 12,
     "metadata": {},
     "output_type": "execute_result"
    }
   ],
   "source": [
    "# Risk of each investment\n",
    "\n",
    "index_volatility = index_daily_return.std()   # 1.03%\n",
    "stocks_volatility = stocks_daily_return.std()  \n",
    "\n",
    "stocks_volatility_df = pd.DataFrame(stocks_volatility)\n",
    "stocks_volatility_df.columns = ['Volatility in %']\n",
    "\n",
    "stocks_volatility_df.head()"
   ]
  },
  {
   "cell_type": "code",
   "execution_count": 13,
   "metadata": {},
   "outputs": [
    {
     "data": {
      "image/png": "[encoded data removed]",
      "text/plain": [
       "<Figure size 432x288 with 1 Axes>"
      ]
     },
     "metadata": {
      "needs_background": "light"
     },
     "output_type": "display_data"
    }
   ],
   "source": [
    "plt.axis([-0.11, 0.25, 0.9, 3.1])\n",
    "\n",
    "plt.scatter(avg_stocks_daily_return, stocks_volatility, s = 5)\n",
    "plt.xlabel('Average return (%)')\n",
    "plt.ylabel('Volatility (%)')\n",
    "\n",
    "plt.show()"
   ]
  },
  {
   "cell_type": "markdown",
   "metadata": {},
   "source": [
    "SHARPE RATIO"
   ]
  },
  {
   "cell_type": "markdown",
   "metadata": {},
   "source": [
    "Finally we can compute our Sharpe Ratio for the top 100 securities of the NASDAQ.\n",
    "\n",
    "Notice that we multiply the result by the square root of 252. It's a way to annualize the ratio (we count 252 trading days in a year)."
   ]
  },
  {
   "cell_type": "code",
   "execution_count": 14,
   "metadata": {
    "scrolled": true
   },
   "outputs": [
    {
     "data": {
      "text/html": [
       "<div>\n",
       "<style scoped>\n",
       "    .dataframe tbody tr th:only-of-type {\n",
       "        vertical-align: middle;\n",
       "    }\n",
       "\n",
       "    .dataframe tbody tr th {\n",
       "        vertical-align: top;\n",
       "    }\n",
       "\n",
       "    .dataframe thead th {\n",
       "        text-align: right;\n",
       "    }\n",
       "</style>\n",
       "<table border=\"1\" class=\"dataframe\">\n",
       "  <thead>\n",
       "    <tr style=\"text-align: right;\">\n",
       "      <th></th>\n",
       "      <th>Company Name</th>\n",
       "      <th>Sector</th>\n",
       "      <th>Industry</th>\n",
       "      <th>Daily return in %</th>\n",
       "      <th>Volatility in %</th>\n",
       "      <th>Sharpe Ratio</th>\n",
       "    </tr>\n",
       "  </thead>\n",
       "  <tbody>\n",
       "    <tr>\n",
       "      <th>AAPL</th>\n",
       "      <td>Apple Inc.</td>\n",
       "      <td>Technology</td>\n",
       "      <td>Computer Manufacturing</td>\n",
       "      <td>0.055401</td>\n",
       "      <td>1.548310</td>\n",
       "      <td>0.167660</td>\n",
       "    </tr>\n",
       "    <tr>\n",
       "      <th>GOOGL</th>\n",
       "      <td>Alphabet Inc.</td>\n",
       "      <td>Technology</td>\n",
       "      <td>Computer Software: Programming, Data Processing</td>\n",
       "      <td>0.078775</td>\n",
       "      <td>1.499629</td>\n",
       "      <td>0.420529</td>\n",
       "    </tr>\n",
       "    <tr>\n",
       "      <th>MSFT</th>\n",
       "      <td>Microsoft Corporation</td>\n",
       "      <td>Technology</td>\n",
       "      <td>Computer Software: Prepackaged Software</td>\n",
       "      <td>0.097975</td>\n",
       "      <td>1.518697</td>\n",
       "      <td>0.615942</td>\n",
       "    </tr>\n",
       "    <tr>\n",
       "      <th>AMZN</th>\n",
       "      <td>Amazon.com, Inc.</td>\n",
       "      <td>Consumer Services</td>\n",
       "      <td>Catalog/Specialty Distribution</td>\n",
       "      <td>0.175961</td>\n",
       "      <td>1.930075</td>\n",
       "      <td>1.126086</td>\n",
       "    </tr>\n",
       "    <tr>\n",
       "      <th>FB</th>\n",
       "      <td>Facebook, Inc.</td>\n",
       "      <td>Technology</td>\n",
       "      <td>Technology</td>\n",
       "      <td>0.067159</td>\n",
       "      <td>1.783148</td>\n",
       "      <td>0.250258</td>\n",
       "    </tr>\n",
       "  </tbody>\n",
       "</table>\n",
       "</div>"
      ],
      "text/plain": [
       "                Company Name             Sector  \\\n",
       "AAPL              Apple Inc.         Technology   \n",
       "GOOGL          Alphabet Inc.         Technology   \n",
       "MSFT   Microsoft Corporation         Technology   \n",
       "AMZN        Amazon.com, Inc.  Consumer Services   \n",
       "FB            Facebook, Inc.         Technology   \n",
       "\n",
       "                                              Industry  Daily return in %  \\\n",
       "AAPL                            Computer Manufacturing           0.055401   \n",
       "GOOGL  Computer Software: Programming, Data Processing           0.078775   \n",
       "MSFT           Computer Software: Prepackaged Software           0.097975   \n",
       "AMZN                    Catalog/Specialty Distribution           0.175961   \n",
       "FB                                          Technology           0.067159   \n",
       "\n",
       "       Volatility in %  Sharpe Ratio  \n",
       "AAPL          1.548310      0.167660  \n",
       "GOOGL         1.499629      0.420529  \n",
       "MSFT          1.518697      0.615942  \n",
       "AMZN          1.930075      1.126086  \n",
       "FB            1.783148      0.250258  "
      ]
     },
     "execution_count": 14,
     "metadata": {},
     "output_type": "execute_result"
    }
   ],
   "source": [
    "import numpy as np\n",
    "\n",
    "stocks_SharpeRatio = ((avg_stocks_daily_return - avg_index_daily_return) / stocks_volatility) * np.sqrt(252)\n",
    "\n",
    "stocks_SharpeRatio_df = pd.DataFrame(stocks_SharpeRatio)\n",
    "stocks_SharpeRatio_df.columns = ['Sharpe Ratio']\n",
    "\n",
    "# All together\n",
    "stocks_stats = pd.concat([stocks_data, avg_stocks_daily_return_df, stocks_volatility_df, stocks_SharpeRatio_df], axis=1, sort=False)\n",
    "stocks_stats.head()"
   ]
  },
  {
   "cell_type": "code",
   "execution_count": 15,
   "metadata": {},
   "outputs": [
    {
     "data": {
      "text/html": [
       "<div>\n",
       "<style scoped>\n",
       "    .dataframe tbody tr th:only-of-type {\n",
       "        vertical-align: middle;\n",
       "    }\n",
       "\n",
       "    .dataframe tbody tr th {\n",
       "        vertical-align: top;\n",
       "    }\n",
       "\n",
       "    .dataframe thead th {\n",
       "        text-align: right;\n",
       "    }\n",
       "</style>\n",
       "<table border=\"1\" class=\"dataframe\">\n",
       "  <thead>\n",
       "    <tr style=\"text-align: right;\">\n",
       "      <th></th>\n",
       "      <th>Sharpe Ratio</th>\n",
       "    </tr>\n",
       "    <tr>\n",
       "      <th>Symbols</th>\n",
       "      <th></th>\n",
       "    </tr>\n",
       "  </thead>\n",
       "  <tbody>\n",
       "    <tr>\n",
       "      <th>AMZN</th>\n",
       "      <td>1.126086</td>\n",
       "    </tr>\n",
       "    <tr>\n",
       "      <th>NVDA</th>\n",
       "      <td>1.101408</td>\n",
       "    </tr>\n",
       "    <tr>\n",
       "      <th>NFLX</th>\n",
       "      <td>0.960119</td>\n",
       "    </tr>\n",
       "    <tr>\n",
       "      <th>ADBE</th>\n",
       "      <td>0.832250</td>\n",
       "    </tr>\n",
       "    <tr>\n",
       "      <th>CME</th>\n",
       "      <td>0.749513</td>\n",
       "    </tr>\n",
       "    <tr>\n",
       "      <th>ISRG</th>\n",
       "      <td>0.747803</td>\n",
       "    </tr>\n",
       "    <tr>\n",
       "      <th>CPRT</th>\n",
       "      <td>0.742367</td>\n",
       "    </tr>\n",
       "    <tr>\n",
       "      <th>AVGO</th>\n",
       "      <td>0.634213</td>\n",
       "    </tr>\n",
       "    <tr>\n",
       "      <th>PYPL</th>\n",
       "      <td>0.618953</td>\n",
       "    </tr>\n",
       "    <tr>\n",
       "      <th>MSFT</th>\n",
       "      <td>0.615942</td>\n",
       "    </tr>\n",
       "  </tbody>\n",
       "</table>\n",
       "</div>"
      ],
      "text/plain": [
       "         Sharpe Ratio\n",
       "Symbols              \n",
       "AMZN         1.126086\n",
       "NVDA         1.101408\n",
       "NFLX         0.960119\n",
       "ADBE         0.832250\n",
       "CME          0.749513\n",
       "ISRG         0.747803\n",
       "CPRT         0.742367\n",
       "AVGO         0.634213\n",
       "PYPL         0.618953\n",
       "MSFT         0.615942"
      ]
     },
     "execution_count": 15,
     "metadata": {},
     "output_type": "execute_result"
    }
   ],
   "source": [
    "# The Ultimate top 10\n",
    "stocks_SharpeRatio_df.nlargest(10, 'Sharpe Ratio')"
   ]
  },
  {
   "cell_type": "markdown",
   "metadata": {},
   "source": [
    "If you wanted to build a 10-stocks portfolio, here is the best selection you could have make during this 5-years period. These stock are the best combinaison in term of profitability and risk-avoidance.\n",
    "\n",
    "Amazon and Nvidia are the clear winners on the market, and if you were visionary enought to put your money in those companies back in 2015, you would have enjoyed respectively a +410% and +565% cumulative performance.\n",
    "\n",
    "\n",
    "At the very beginning, we said that a Sharpe Ratio > 1 was required to have a stock that both : 1) beat the index's rate of return, and 2) does it at a lesser risk.\n",
    "It's quite surprising to see that only 2 companies among the top 100 of the NASDAQ manage to do so. It seems to support Warren Buffet's advice to most investors, which is basically \"Buy a low-cost index fund and wait\".\n",
    "\n",
    "\n",
    "I'll probably make another shorter analysis using the Sharpe Ratio, but this time we'll focus on each industry (Technology, Finance, Health care ...), as well a study of a very specific portfolio selection you could have make back in time. "
   ]
  }
 ],
 "metadata": {
  "kernelspec": {
   "display_name": "Python 3",
   "language": "python",
   "name": "python3"
  },
  "language_info": {
   "codemirror_mode": {
    "name": "ipython",
    "version": 3
   },
   "file_extension": ".py",
   "mimetype": "text/x-python",
   "name": "python",
   "nbconvert_exporter": "python",
   "pygments_lexer": "ipython3",
   "version": "3.7.1"
  }
 },
 "nbformat": 4,
 "nbformat_minor": 2
}
