{
 "cells": [
  {
   "cell_type": "code",
   "execution_count": 1,
   "metadata": {},
   "outputs": [],
   "source": [
    "import pandas as pd\n",
    "import matplotlib.pyplot as plt \n",
    "import numpy as np\n",
    "import seaborn as sns\n",
    "from pandas_datareader.data import DataReader\n",
    "from datetime import date\n",
    "import quandl\n",
    "\n",
    "plt.style.use('fivethirtyeight')\n",
    "%matplotlib inline"
   ]
  },
  {
   "cell_type": "markdown",
   "metadata": {},
   "source": [
    "- Importing and Discovering the data"
   ]
  },
  {
   "cell_type": "code",
   "execution_count": 2,
   "metadata": {},
   "outputs": [
    {
     "data": {
      "text/html": [
       "<div>\n",
       "<style scoped>\n",
       "    .dataframe tbody tr th:only-of-type {\n",
       "        vertical-align: middle;\n",
       "    }\n",
       "\n",
       "    .dataframe tbody tr th {\n",
       "        vertical-align: top;\n",
       "    }\n",
       "\n",
       "    .dataframe thead th {\n",
       "        text-align: right;\n",
       "    }\n",
       "</style>\n",
       "<table border=\"1\" class=\"dataframe\">\n",
       "  <thead>\n",
       "    <tr style=\"text-align: right;\">\n",
       "      <th></th>\n",
       "      <th>Company Name</th>\n",
       "      <th>Sector</th>\n",
       "      <th>Industry</th>\n",
       "    </tr>\n",
       "    <tr>\n",
       "      <th>Stock Symbol</th>\n",
       "      <th></th>\n",
       "      <th></th>\n",
       "      <th></th>\n",
       "    </tr>\n",
       "  </thead>\n",
       "  <tbody>\n",
       "    <tr>\n",
       "      <th>AAPL</th>\n",
       "      <td>Apple Inc.</td>\n",
       "      <td>Technology</td>\n",
       "      <td>Computer Manufacturing</td>\n",
       "    </tr>\n",
       "    <tr>\n",
       "      <th>GOOGL</th>\n",
       "      <td>Alphabet Inc.</td>\n",
       "      <td>Technology</td>\n",
       "      <td>Computer Software: Programming, Data Processing</td>\n",
       "    </tr>\n",
       "    <tr>\n",
       "      <th>GOOG</th>\n",
       "      <td>Alphabet Inc.</td>\n",
       "      <td>Technology</td>\n",
       "      <td>Computer Software: Programming, Data Processing</td>\n",
       "    </tr>\n",
       "    <tr>\n",
       "      <th>MSFT</th>\n",
       "      <td>Microsoft Corporation</td>\n",
       "      <td>Technology</td>\n",
       "      <td>Computer Software: Prepackaged Software</td>\n",
       "    </tr>\n",
       "    <tr>\n",
       "      <th>AMZN</th>\n",
       "      <td>Amazon.com, Inc.</td>\n",
       "      <td>Consumer Services</td>\n",
       "      <td>Catalog/Specialty Distribution</td>\n",
       "    </tr>\n",
       "  </tbody>\n",
       "</table>\n",
       "</div>"
      ],
      "text/plain": [
       "                       Company Name             Sector  \\\n",
       "Stock Symbol                                             \n",
       "AAPL                     Apple Inc.         Technology   \n",
       "GOOGL                 Alphabet Inc.         Technology   \n",
       "GOOG                  Alphabet Inc.         Technology   \n",
       "MSFT          Microsoft Corporation         Technology   \n",
       "AMZN               Amazon.com, Inc.  Consumer Services   \n",
       "\n",
       "                                                     Industry  \n",
       "Stock Symbol                                                   \n",
       "AAPL                                   Computer Manufacturing  \n",
       "GOOGL         Computer Software: Programming, Data Processing  \n",
       "GOOG          Computer Software: Programming, Data Processing  \n",
       "MSFT                  Computer Software: Prepackaged Software  \n",
       "AMZN                           Catalog/Specialty Distribution  "
      ]
     },
     "execution_count": 2,
     "metadata": {},
     "output_type": "execute_result"
    }
   ],
   "source": [
    "# Getting the stocks data\n",
    "data = pd.read_excel(r'Listings.xlsx', \n",
    "                     index_col = 0, sheet_name='nasdaq')\n",
    "data.head()"
   ]
  },
  {
   "cell_type": "code",
   "execution_count": 3,
   "metadata": {},
   "outputs": [
    {
     "name": "stdout",
     "output_type": "stream",
     "text": [
      "<class 'pandas.core.frame.DataFrame'>\n",
      "Index: 3163 entries, AAPL to ZIONZ\n",
      "Data columns (total 3 columns):\n",
      "Company Name    3163 non-null object\n",
      "Sector          2763 non-null object\n",
      "Industry        2763 non-null object\n",
      "dtypes: object(3)\n",
      "memory usage: 98.8+ KB\n"
     ]
    },
    {
     "data": {
      "text/html": [
       "<div>\n",
       "<style scoped>\n",
       "    .dataframe tbody tr th:only-of-type {\n",
       "        vertical-align: middle;\n",
       "    }\n",
       "\n",
       "    .dataframe tbody tr th {\n",
       "        vertical-align: top;\n",
       "    }\n",
       "\n",
       "    .dataframe thead th {\n",
       "        text-align: right;\n",
       "    }\n",
       "</style>\n",
       "<table border=\"1\" class=\"dataframe\">\n",
       "  <thead>\n",
       "    <tr style=\"text-align: right;\">\n",
       "      <th></th>\n",
       "      <th>Company Name</th>\n",
       "      <th>Sector</th>\n",
       "      <th>Industry</th>\n",
       "    </tr>\n",
       "  </thead>\n",
       "  <tbody>\n",
       "    <tr>\n",
       "      <th>count</th>\n",
       "      <td>3163</td>\n",
       "      <td>2763</td>\n",
       "      <td>2763</td>\n",
       "    </tr>\n",
       "    <tr>\n",
       "      <th>unique</th>\n",
       "      <td>2885</td>\n",
       "      <td>12</td>\n",
       "      <td>127</td>\n",
       "    </tr>\n",
       "    <tr>\n",
       "      <th>top</th>\n",
       "      <td>Liberty Media Corporation</td>\n",
       "      <td>Health Care</td>\n",
       "      <td>Major Pharmaceuticals</td>\n",
       "    </tr>\n",
       "    <tr>\n",
       "      <th>freq</th>\n",
       "      <td>6</td>\n",
       "      <td>645</td>\n",
       "      <td>349</td>\n",
       "    </tr>\n",
       "  </tbody>\n",
       "</table>\n",
       "</div>"
      ],
      "text/plain": [
       "                     Company Name       Sector               Industry\n",
       "count                        3163         2763                   2763\n",
       "unique                       2885           12                    127\n",
       "top     Liberty Media Corporation  Health Care  Major Pharmaceuticals\n",
       "freq                            6          645                    349"
      ]
     },
     "execution_count": 3,
     "metadata": {},
     "output_type": "execute_result"
    }
   ],
   "source": [
    "data.info()\n",
    "data.describe()"
   ]
  },
  {
   "cell_type": "markdown",
   "metadata": {},
   "source": [
    "As we can see the most frequent sector of the NASDAQ is the Health Care, with nearly 1/4 of the companies.\n",
    "\n",
    "For the \"Sector\" and \"Industry\" columns, we'll use the 'category' dtype instead of 'objects', to save memory.\n",
    "The missing values mostly correspond to ETFs (or trackers : funds that replicate a large market index), not company stocks : we can drop them.\n",
    "\n",
    "There are also duplicates in the company names that we want to get rid of. "
   ]
  },
  {
   "cell_type": "markdown",
   "metadata": {},
   "source": [
    "- Data cleaning"
   ]
  },
  {
   "cell_type": "code",
   "execution_count": 4,
   "metadata": {},
   "outputs": [
    {
     "name": "stdout",
     "output_type": "stream",
     "text": [
      "<class 'pandas.core.frame.DataFrame'>\n",
      "Index: 2507 entries, AAPL to VVPR\n",
      "Data columns (total 3 columns):\n",
      "Company Name    2507 non-null object\n",
      "Sector          2507 non-null category\n",
      "Industry        2507 non-null category\n",
      "dtypes: category(2), object(1)\n",
      "memory usage: 52.9+ KB\n"
     ]
    }
   ],
   "source": [
    "# Change the columns dtype\n",
    "data = data.astype({'Sector' : 'category', 'Industry' : 'category'})\n",
    "\n",
    "# Drop missing values and duplicates\n",
    "data = data.dropna()\n",
    "data = data.drop_duplicates()\n",
    "\n",
    "data.info()    # we just saved 46KB of memory"
   ]
  },
  {
   "cell_type": "markdown",
   "metadata": {},
   "source": [
    "Now we have a clean dataset with no duplicates or missing values. We can start the financial analysis.\n",
    "\n",
    "In the Sharpe Ratio formula, we need the stock's expected rate of return, and its volatility (the standard deviation of the market price is considered as a measure of risk)."
   ]
  },
  {
   "cell_type": "code",
   "execution_count": 5,
   "metadata": {},
   "outputs": [],
   "source": [
    "# Collecting the data\n",
    "\n",
    "# List of all the stocks tickers\n",
    "stocks_ticker = data.index.tolist()\n",
    "\n",
    "# Initialize the parameters\n",
    "start = date(2014, 1, 1)\n",
    "end = date(2019, 1, 1)\n",
    "\n",
    "stocks = pd.DataFrame()\n",
    "error_list =[]\n",
    "x = 0\n",
    "\n",
    "# Data of the NASDAQ 100\n",
    "while x <= 100 :\n",
    "    try :\n",
    "        tickers = stocks_ticker[x]\n",
    "        new_selection = DataReader(tickers, 'iex', start, end)['close']\n",
    "        new_selection.rename(tickers, inplace=True)\n",
    "        stocks = pd.concat([stocks, new_selection], axis=1, sort=False)\n",
    "        x += 1\n",
    "\n",
    "    # some values in the list are not up to date    \n",
    "    except KeyError :  \n",
    "        continue "
   ]
  },
  {
   "cell_type": "code",
   "execution_count": 6,
   "metadata": {},
   "outputs": [
    {
     "data": {
      "text/html": [
       "<div>\n",
       "<style scoped>\n",
       "    .dataframe tbody tr th:only-of-type {\n",
       "        vertical-align: middle;\n",
       "    }\n",
       "\n",
       "    .dataframe tbody tr th {\n",
       "        vertical-align: top;\n",
       "    }\n",
       "\n",
       "    .dataframe thead th {\n",
       "        text-align: right;\n",
       "    }\n",
       "</style>\n",
       "<table border=\"1\" class=\"dataframe\">\n",
       "  <thead>\n",
       "    <tr style=\"text-align: right;\">\n",
       "      <th></th>\n",
       "      <th>AAPL</th>\n",
       "      <th>GOOGL</th>\n",
       "      <th>MSFT</th>\n",
       "      <th>AMZN</th>\n",
       "      <th>FB</th>\n",
       "    </tr>\n",
       "    <tr>\n",
       "      <th>Date</th>\n",
       "      <th></th>\n",
       "      <th></th>\n",
       "      <th></th>\n",
       "      <th></th>\n",
       "      <th></th>\n",
       "    </tr>\n",
       "  </thead>\n",
       "  <tbody>\n",
       "    <tr>\n",
       "      <th>2014-04-24</th>\n",
       "      <td>74.5663</td>\n",
       "      <td>534.44</td>\n",
       "      <td>35.4595</td>\n",
       "      <td>337.15</td>\n",
       "      <td>60.87</td>\n",
       "    </tr>\n",
       "    <tr>\n",
       "      <th>2014-04-25</th>\n",
       "      <td>75.1140</td>\n",
       "      <td>523.10</td>\n",
       "      <td>35.5040</td>\n",
       "      <td>303.83</td>\n",
       "      <td>57.71</td>\n",
       "    </tr>\n",
       "    <tr>\n",
       "      <th>2014-04-28</th>\n",
       "      <td>78.0230</td>\n",
       "      <td>522.98</td>\n",
       "      <td>36.3580</td>\n",
       "      <td>296.58</td>\n",
       "      <td>56.14</td>\n",
       "    </tr>\n",
       "    <tr>\n",
       "      <th>2014-04-29</th>\n",
       "      <td>77.7918</td>\n",
       "      <td>536.33</td>\n",
       "      <td>36.0377</td>\n",
       "      <td>300.38</td>\n",
       "      <td>58.15</td>\n",
       "    </tr>\n",
       "    <tr>\n",
       "      <th>2014-04-30</th>\n",
       "      <td>77.4976</td>\n",
       "      <td>534.88</td>\n",
       "      <td>35.9399</td>\n",
       "      <td>304.13</td>\n",
       "      <td>59.78</td>\n",
       "    </tr>\n",
       "  </tbody>\n",
       "</table>\n",
       "</div>"
      ],
      "text/plain": [
       "               AAPL   GOOGL     MSFT    AMZN     FB\n",
       "Date                                               \n",
       "2014-04-24  74.5663  534.44  35.4595  337.15  60.87\n",
       "2014-04-25  75.1140  523.10  35.5040  303.83  57.71\n",
       "2014-04-28  78.0230  522.98  36.3580  296.58  56.14\n",
       "2014-04-29  77.7918  536.33  36.0377  300.38  58.15\n",
       "2014-04-30  77.4976  534.88  35.9399  304.13  59.78"
      ]
     },
     "execution_count": 6,
     "metadata": {},
     "output_type": "execute_result"
    }
   ],
   "source": [
    "# Create a Datetime index\n",
    "stocks['Date'] = pd.to_datetime(stocks.index)\n",
    "stocks = stocks.set_index('Date')\n",
    "\n",
    "stocks.iloc[:,:5].head()"
   ]
  },
  {
   "cell_type": "code",
   "execution_count": 7,
   "metadata": {},
   "outputs": [],
   "source": [
    "# Saving this dataframe\n",
    "stocks.to_pickle('NASDAC.pkl')\n",
    "stocks = pd.read_pickle('NASDAC.pkl')"
   ]
  },
  {
   "cell_type": "code",
   "execution_count": 8,
   "metadata": {},
   "outputs": [
    {
     "data": {
      "image/png": "[encoded data removed]",
      "text/plain": [
       "<Figure size 576x432 with 2 Axes>"
      ]
     },
     "metadata": {
      "needs_background": "light"
     },
     "output_type": "display_data"
    }
   ],
   "source": [
    "# Charts of the stock price evolution\n",
    "stocks.loc[:, ['AAPL', 'AMZN']].plot(linewidth=1, subplots=True, figsize=(8, 6))\n",
    "plt.xlabel('')\n",
    "\n",
    "plt.show()"
   ]
  },
  {
   "cell_type": "markdown",
   "metadata": {},
   "source": [
    "- Computing the key metrics"
   ]
  },
  {
   "cell_type": "code",
   "execution_count": 9,
   "metadata": {},
   "outputs": [
    {
     "data": {
      "text/html": [
       "<div>\n",
       "<style scoped>\n",
       "    .dataframe tbody tr th:only-of-type {\n",
       "        vertical-align: middle;\n",
       "    }\n",
       "\n",
       "    .dataframe tbody tr th {\n",
       "        vertical-align: top;\n",
       "    }\n",
       "\n",
       "    .dataframe thead th {\n",
       "        text-align: right;\n",
       "    }\n",
       "</style>\n",
       "<table border=\"1\" class=\"dataframe\">\n",
       "  <thead>\n",
       "    <tr style=\"text-align: right;\">\n",
       "      <th></th>\n",
       "      <th>Annual Return</th>\n",
       "    </tr>\n",
       "  </thead>\n",
       "  <tbody>\n",
       "    <tr>\n",
       "      <th>NVDA</th>\n",
       "      <td>60.793151</td>\n",
       "    </tr>\n",
       "    <tr>\n",
       "      <th>NFLX</th>\n",
       "      <td>52.872612</td>\n",
       "    </tr>\n",
       "    <tr>\n",
       "      <th>AMZN</th>\n",
       "      <td>40.988957</td>\n",
       "    </tr>\n",
       "    <tr>\n",
       "      <th>AVGO</th>\n",
       "      <td>40.682327</td>\n",
       "    </tr>\n",
       "    <tr>\n",
       "      <th>NTES</th>\n",
       "      <td>36.677652</td>\n",
       "    </tr>\n",
       "  </tbody>\n",
       "</table>\n",
       "</div>"
      ],
      "text/plain": [
       "      Annual Return\n",
       "NVDA      60.793151\n",
       "NFLX      52.872612\n",
       "AMZN      40.988957\n",
       "AVGO      40.682327\n",
       "NTES      36.677652"
      ]
     },
     "execution_count": 9,
     "metadata": {},
     "output_type": "execute_result"
    }
   ],
   "source": [
    "# Average daily return\n",
    "avg_daily_return = np.mean(stocks.pct_change() + 1)\n",
    "\n",
    "# Average annual return (in %)\n",
    "avg_annual_return = (avg_daily_return ** 252 - 1) * 100 # 252 trading days\n",
    "\n",
    "# Convert to a DataFrame\n",
    "avg_annual_return = avg_annual_return.to_frame('Annual Return')\n",
    "\n",
    "# 5 best average return\n",
    "avg_annual_return.nlargest(5, 'Annual Return')"
   ]
  },
  {
   "cell_type": "code",
   "execution_count": 10,
   "metadata": {},
   "outputs": [
    {
     "data": {
      "image/png": "[encoded data removed]",
      "text/plain": [
       "<Figure size 720x360 with 1 Axes>"
      ]
     },
     "metadata": {
      "needs_background": "light"
     },
     "output_type": "display_data"
    }
   ],
   "source": [
    "# Boxplot of the daily stocks return\n",
    "\n",
    "(stocks.pct_change()*100).iloc[:, :10].plot(kind='box',sym='k+', figsize=(10, 5))\n",
    "\n",
    "plt.title('Daily Return (in %)')\n",
    "\n",
    "plt.show()"
   ]
  },
  {
   "cell_type": "markdown",
   "metadata": {},
   "source": [
    "As we can see with this 10-stocks selection, the return can vary greatly from one day to another. Facebook's (FB) volatility is quite extreme : during this 4-years period, investors would have known a +16% but also a -19% price variation of their asset, during a single day !\n",
    "\n",
    "Also the Google (GOOGL) case is quite interesting : even though their shareholders wouldn't have benefited from as many high daily-returns as Amazon (AMZN), their investment might actually be 'safer'.\n",
    "Indeed, its market capitalisation vary from -5% to +17%, meaning that the stock's downside deviation (volatility of the negative returns, also called negative deviation) is much smaller that Amazon, which suffer from many days in the [-10%, -5%] range.                \n",
    "Said differently, investing in Google might cause less bad-surprises than in Facebook or Amazon."
   ]
  },
  {
   "cell_type": "code",
   "execution_count": 11,
   "metadata": {},
   "outputs": [
    {
     "data": {
      "text/html": [
       "<div>\n",
       "<style scoped>\n",
       "    .dataframe tbody tr th:only-of-type {\n",
       "        vertical-align: middle;\n",
       "    }\n",
       "\n",
       "    .dataframe tbody tr th {\n",
       "        vertical-align: top;\n",
       "    }\n",
       "\n",
       "    .dataframe thead th {\n",
       "        text-align: right;\n",
       "    }\n",
       "</style>\n",
       "<table border=\"1\" class=\"dataframe\">\n",
       "  <thead>\n",
       "    <tr style=\"text-align: right;\">\n",
       "      <th></th>\n",
       "      <th>Annual Volatility</th>\n",
       "    </tr>\n",
       "  </thead>\n",
       "  <tbody>\n",
       "    <tr>\n",
       "      <th>HBANO</th>\n",
       "      <td>10.493549</td>\n",
       "    </tr>\n",
       "    <tr>\n",
       "      <th>PAYX</th>\n",
       "      <td>16.572448</td>\n",
       "    </tr>\n",
       "    <tr>\n",
       "      <th>FISV</th>\n",
       "      <td>16.761654</td>\n",
       "    </tr>\n",
       "    <tr>\n",
       "      <th>COST</th>\n",
       "      <td>17.939813</td>\n",
       "    </tr>\n",
       "    <tr>\n",
       "      <th>VRSK</th>\n",
       "      <td>17.957145</td>\n",
       "    </tr>\n",
       "    <tr>\n",
       "      <th>WLTW</th>\n",
       "      <td>18.394353</td>\n",
       "    </tr>\n",
       "    <tr>\n",
       "      <th>CME</th>\n",
       "      <td>18.481651</td>\n",
       "    </tr>\n",
       "  </tbody>\n",
       "</table>\n",
       "</div>"
      ],
      "text/plain": [
       "       Annual Volatility\n",
       "HBANO          10.493549\n",
       "PAYX           16.572448\n",
       "FISV           16.761654\n",
       "COST           17.939813\n",
       "VRSK           17.957145\n",
       "WLTW           18.394353\n",
       "CME            18.481651"
      ]
     },
     "execution_count": 11,
     "metadata": {},
     "output_type": "execute_result"
    }
   ],
   "source": [
    "# Daily volatility / risk of each asset\n",
    "daily_volatility = np.std(stocks.pct_change() * 100)\n",
    "\n",
    "# Annualized volatility\n",
    "annual_volatility = daily_volatility * np.sqrt(252)\n",
    "annual_volatility = annual_volatility.to_frame('Annual Volatility')\n",
    "\n",
    "# 7 least volatile securities\n",
    "annual_volatility.nsmallest(7, 'Annual Volatility')"
   ]
  },
  {
   "cell_type": "code",
   "execution_count": 12,
   "metadata": {},
   "outputs": [
    {
     "data": {
      "text/html": [
       "<div>\n",
       "<style scoped>\n",
       "    .dataframe tbody tr th:only-of-type {\n",
       "        vertical-align: middle;\n",
       "    }\n",
       "\n",
       "    .dataframe tbody tr th {\n",
       "        vertical-align: top;\n",
       "    }\n",
       "\n",
       "    .dataframe thead th {\n",
       "        text-align: right;\n",
       "    }\n",
       "</style>\n",
       "<table border=\"1\" class=\"dataframe\">\n",
       "  <thead>\n",
       "    <tr style=\"text-align: right;\">\n",
       "      <th></th>\n",
       "      <th>Company Name</th>\n",
       "      <th>Sector</th>\n",
       "      <th>Industry</th>\n",
       "      <th>Annual Return</th>\n",
       "      <th>Annual Volatility</th>\n",
       "      <th>Sharpe Ratio</th>\n",
       "    </tr>\n",
       "  </thead>\n",
       "  <tbody>\n",
       "    <tr>\n",
       "      <th>AAPL</th>\n",
       "      <td>Apple Inc.</td>\n",
       "      <td>Technology</td>\n",
       "      <td>Computer Manufacturing</td>\n",
       "      <td>19.250059</td>\n",
       "      <td>23.115261</td>\n",
       "      <td>0.724632</td>\n",
       "    </tr>\n",
       "    <tr>\n",
       "      <th>GOOGL</th>\n",
       "      <td>Alphabet Inc.</td>\n",
       "      <td>Technology</td>\n",
       "      <td>Computer Software: Programming, Data Processing</td>\n",
       "      <td>17.280955</td>\n",
       "      <td>22.460544</td>\n",
       "      <td>0.658085</td>\n",
       "    </tr>\n",
       "    <tr>\n",
       "      <th>MSFT</th>\n",
       "      <td>Microsoft Corporation</td>\n",
       "      <td>Technology</td>\n",
       "      <td>Computer Software: Prepackaged Software</td>\n",
       "      <td>26.536648</td>\n",
       "      <td>22.518180</td>\n",
       "      <td>1.067433</td>\n",
       "    </tr>\n",
       "    <tr>\n",
       "      <th>AMZN</th>\n",
       "      <td>Amazon.com, Inc.</td>\n",
       "      <td>Consumer Services</td>\n",
       "      <td>Catalog/Specialty Distribution</td>\n",
       "      <td>40.988957</td>\n",
       "      <td>29.804904</td>\n",
       "      <td>1.291363</td>\n",
       "    </tr>\n",
       "    <tr>\n",
       "      <th>FB</th>\n",
       "      <td>Facebook, Inc.</td>\n",
       "      <td>Technology</td>\n",
       "      <td>Technology</td>\n",
       "      <td>21.143062</td>\n",
       "      <td>27.448022</td>\n",
       "      <td>0.679213</td>\n",
       "    </tr>\n",
       "  </tbody>\n",
       "</table>\n",
       "</div>"
      ],
      "text/plain": [
       "                Company Name             Sector  \\\n",
       "AAPL              Apple Inc.         Technology   \n",
       "GOOGL          Alphabet Inc.         Technology   \n",
       "MSFT   Microsoft Corporation         Technology   \n",
       "AMZN        Amazon.com, Inc.  Consumer Services   \n",
       "FB            Facebook, Inc.         Technology   \n",
       "\n",
       "                                              Industry  Annual Return  \\\n",
       "AAPL                            Computer Manufacturing      19.250059   \n",
       "GOOGL  Computer Software: Programming, Data Processing      17.280955   \n",
       "MSFT           Computer Software: Prepackaged Software      26.536648   \n",
       "AMZN                    Catalog/Specialty Distribution      40.988957   \n",
       "FB                                          Technology      21.143062   \n",
       "\n",
       "       Annual Volatility  Sharpe Ratio  \n",
       "AAPL           23.115261      0.724632  \n",
       "GOOGL          22.460544      0.658085  \n",
       "MSFT           22.518180      1.067433  \n",
       "AMZN           29.804904      1.291363  \n",
       "FB             27.448022      0.679213  "
      ]
     },
     "execution_count": 12,
     "metadata": {},
     "output_type": "execute_result"
    }
   ],
   "source": [
    "# Sharpe Ratio (2.5% risk-free rate of return)\n",
    "stocks_SharpeRatio = pd.DataFrame()\n",
    "stocks_SharpeRatio['Sharpe Ratio'] = (avg_annual_return['Annual Return'] - 2.5) / annual_volatility['Annual Volatility']\n",
    "\n",
    "# Put it all together\n",
    "df_stocks = pd.concat([data, avg_annual_return, annual_volatility, stocks_SharpeRatio], axis=1, sort=False)\n",
    "df_stocks.head()"
   ]
  },
  {
   "cell_type": "code",
   "execution_count": 13,
   "metadata": {},
   "outputs": [
    {
     "data": {
      "text/html": [
       "<div>\n",
       "<style scoped>\n",
       "    .dataframe tbody tr th:only-of-type {\n",
       "        vertical-align: middle;\n",
       "    }\n",
       "\n",
       "    .dataframe tbody tr th {\n",
       "        vertical-align: top;\n",
       "    }\n",
       "\n",
       "    .dataframe thead th {\n",
       "        text-align: right;\n",
       "    }\n",
       "</style>\n",
       "<table border=\"1\" class=\"dataframe\">\n",
       "  <thead>\n",
       "    <tr style=\"text-align: right;\">\n",
       "      <th></th>\n",
       "      <th>Sharpe Ratio</th>\n",
       "    </tr>\n",
       "  </thead>\n",
       "  <tbody>\n",
       "    <tr>\n",
       "      <th>NVDA</th>\n",
       "      <td>1.465047</td>\n",
       "    </tr>\n",
       "    <tr>\n",
       "      <th>CME</th>\n",
       "      <td>1.391735</td>\n",
       "    </tr>\n",
       "    <tr>\n",
       "      <th>ISRG</th>\n",
       "      <td>1.321495</td>\n",
       "    </tr>\n",
       "    <tr>\n",
       "      <th>AMZN</th>\n",
       "      <td>1.291363</td>\n",
       "    </tr>\n",
       "    <tr>\n",
       "      <th>NFLX</th>\n",
       "      <td>1.218710</td>\n",
       "    </tr>\n",
       "  </tbody>\n",
       "</table>\n",
       "</div>"
      ],
      "text/plain": [
       "      Sharpe Ratio\n",
       "NVDA      1.465047\n",
       "CME       1.391735\n",
       "ISRG      1.321495\n",
       "AMZN      1.291363\n",
       "NFLX      1.218710"
      ]
     },
     "execution_count": 13,
     "metadata": {},
     "output_type": "execute_result"
    }
   ],
   "source": [
    "# Top 5 Sharpe Ratio of our selection\n",
    "stocks_SharpeRatio.nlargest(5, 'Sharpe Ratio')"
   ]
  },
  {
   "cell_type": "markdown",
   "metadata": {},
   "source": [
    "Here is the list of the 5 highest Sharpe Ratio among the corporations we can find in the NASDAQ100.\n",
    "We usually consider that a Sharpe Ratio > 1 is pretty satisfying because it means the excess return (return of the stock - risk-free return) is superior to the volatility of the investment.\n",
    "\n",
    "Nvidia (NVDA) achieves to obtain the highest score, despite a very high volatility rate (nearly 40% per annum). However, the Sharpe Ratio rewards both high return and moderate risk, and Nvidia is by far the leader of the index when it comes to market performance, with a whopping 61.7% increase, in average, during 4 years !"
   ]
  },
  {
   "cell_type": "code",
   "execution_count": 14,
   "metadata": {},
   "outputs": [
    {
     "data": {
      "text/html": [
       "<div>\n",
       "<style scoped>\n",
       "    .dataframe tbody tr th:only-of-type {\n",
       "        vertical-align: middle;\n",
       "    }\n",
       "\n",
       "    .dataframe tbody tr th {\n",
       "        vertical-align: top;\n",
       "    }\n",
       "\n",
       "    .dataframe thead th {\n",
       "        text-align: right;\n",
       "    }\n",
       "</style>\n",
       "<table border=\"1\" class=\"dataframe\">\n",
       "  <thead>\n",
       "    <tr style=\"text-align: right;\">\n",
       "      <th></th>\n",
       "      <th>Company Name</th>\n",
       "      <th>Sector</th>\n",
       "      <th>Industry</th>\n",
       "      <th>Annual Return</th>\n",
       "      <th>Annual Volatility</th>\n",
       "      <th>Sharpe Ratio</th>\n",
       "    </tr>\n",
       "  </thead>\n",
       "  <tbody>\n",
       "    <tr>\n",
       "      <th>NVDA</th>\n",
       "      <td>NVIDIA Corporation</td>\n",
       "      <td>Technology</td>\n",
       "      <td>Semiconductors</td>\n",
       "      <td>60.793151</td>\n",
       "      <td>39.78926</td>\n",
       "      <td>1.465047</td>\n",
       "    </tr>\n",
       "  </tbody>\n",
       "</table>\n",
       "</div>"
      ],
      "text/plain": [
       "            Company Name      Sector        Industry  Annual Return  \\\n",
       "NVDA  NVIDIA Corporation  Technology  Semiconductors      60.793151   \n",
       "\n",
       "      Annual Volatility  Sharpe Ratio  \n",
       "NVDA           39.78926      1.465047  "
      ]
     },
     "execution_count": 14,
     "metadata": {},
     "output_type": "execute_result"
    }
   ],
   "source": [
    "# CME key metrics\n",
    "df_stocks.loc[['NVDA'], :]"
   ]
  },
  {
   "cell_type": "markdown",
   "metadata": {},
   "source": [
    "- Sectorial analysis of the Sharpe Ratio"
   ]
  },
  {
   "cell_type": "code",
   "execution_count": 15,
   "metadata": {},
   "outputs": [
    {
     "data": {
      "text/html": [
       "<div>\n",
       "<style scoped>\n",
       "    .dataframe tbody tr th:only-of-type {\n",
       "        vertical-align: middle;\n",
       "    }\n",
       "\n",
       "    .dataframe tbody tr th {\n",
       "        vertical-align: top;\n",
       "    }\n",
       "\n",
       "    .dataframe thead th {\n",
       "        text-align: right;\n",
       "    }\n",
       "</style>\n",
       "<table border=\"1\" class=\"dataframe\">\n",
       "  <thead>\n",
       "    <tr style=\"text-align: right;\">\n",
       "      <th></th>\n",
       "      <th>Cyclicality</th>\n",
       "      <th>Annual Return</th>\n",
       "      <th>Annual Volatility</th>\n",
       "      <th>Sharpe Ratio</th>\n",
       "      <th>Count</th>\n",
       "    </tr>\n",
       "    <tr>\n",
       "      <th>Sector</th>\n",
       "      <th></th>\n",
       "      <th></th>\n",
       "      <th></th>\n",
       "      <th></th>\n",
       "      <th></th>\n",
       "    </tr>\n",
       "  </thead>\n",
       "  <tbody>\n",
       "    <tr>\n",
       "      <th>Consumer Durables</th>\n",
       "      <td>Cyclical</td>\n",
       "      <td>24.483361</td>\n",
       "      <td>21.210701</td>\n",
       "      <td>1.036428</td>\n",
       "      <td>1</td>\n",
       "    </tr>\n",
       "    <tr>\n",
       "      <th>Technology</th>\n",
       "      <td>Cyclical</td>\n",
       "      <td>18.036332</td>\n",
       "      <td>27.188953</td>\n",
       "      <td>0.594233</td>\n",
       "      <td>36</td>\n",
       "    </tr>\n",
       "    <tr>\n",
       "      <th>Consumer Services</th>\n",
       "      <td>Defensive</td>\n",
       "      <td>15.632843</td>\n",
       "      <td>26.303066</td>\n",
       "      <td>0.527596</td>\n",
       "      <td>22</td>\n",
       "    </tr>\n",
       "    <tr>\n",
       "      <th>Finance</th>\n",
       "      <td>Cyclical</td>\n",
       "      <td>13.416184</td>\n",
       "      <td>20.681380</td>\n",
       "      <td>0.520193</td>\n",
       "      <td>8</td>\n",
       "    </tr>\n",
       "    <tr>\n",
       "      <th>Miscellaneous</th>\n",
       "      <td>Cyclical</td>\n",
       "      <td>17.823413</td>\n",
       "      <td>31.947134</td>\n",
       "      <td>0.474502</td>\n",
       "      <td>5</td>\n",
       "    </tr>\n",
       "    <tr>\n",
       "      <th>Transportation</th>\n",
       "      <td>Defensive</td>\n",
       "      <td>13.825511</td>\n",
       "      <td>31.042854</td>\n",
       "      <td>0.415677</td>\n",
       "      <td>2</td>\n",
       "    </tr>\n",
       "    <tr>\n",
       "      <th>Capital Goods</th>\n",
       "      <td>Cyclical</td>\n",
       "      <td>15.770574</td>\n",
       "      <td>32.318829</td>\n",
       "      <td>0.379285</td>\n",
       "      <td>4</td>\n",
       "    </tr>\n",
       "    <tr>\n",
       "      <th>Public Utilities</th>\n",
       "      <td>Defensive</td>\n",
       "      <td>10.864671</td>\n",
       "      <td>28.209036</td>\n",
       "      <td>0.331721</td>\n",
       "      <td>2</td>\n",
       "    </tr>\n",
       "    <tr>\n",
       "      <th>Health Care</th>\n",
       "      <td>Defensive</td>\n",
       "      <td>10.501848</td>\n",
       "      <td>30.162752</td>\n",
       "      <td>0.274154</td>\n",
       "      <td>17</td>\n",
       "    </tr>\n",
       "    <tr>\n",
       "      <th>Consumer Non-Durables</th>\n",
       "      <td>Defensive</td>\n",
       "      <td>6.991775</td>\n",
       "      <td>23.917545</td>\n",
       "      <td>0.119361</td>\n",
       "      <td>3</td>\n",
       "    </tr>\n",
       "  </tbody>\n",
       "</table>\n",
       "</div>"
      ],
      "text/plain": [
       "                      Cyclicality  Annual Return  Annual Volatility  \\\n",
       "Sector                                                                \n",
       "Consumer Durables        Cyclical      24.483361          21.210701   \n",
       "Technology               Cyclical      18.036332          27.188953   \n",
       "Consumer Services       Defensive      15.632843          26.303066   \n",
       "Finance                  Cyclical      13.416184          20.681380   \n",
       "Miscellaneous            Cyclical      17.823413          31.947134   \n",
       "Transportation          Defensive      13.825511          31.042854   \n",
       "Capital Goods            Cyclical      15.770574          32.318829   \n",
       "Public Utilities        Defensive      10.864671          28.209036   \n",
       "Health Care             Defensive      10.501848          30.162752   \n",
       "Consumer Non-Durables   Defensive       6.991775          23.917545   \n",
       "\n",
       "                       Sharpe Ratio  Count  \n",
       "Sector                                      \n",
       "Consumer Durables          1.036428      1  \n",
       "Technology                 0.594233     36  \n",
       "Consumer Services          0.527596     22  \n",
       "Finance                    0.520193      8  \n",
       "Miscellaneous              0.474502      5  \n",
       "Transportation             0.415677      2  \n",
       "Capital Goods              0.379285      4  \n",
       "Public Utilities           0.331721      2  \n",
       "Health Care                0.274154     17  \n",
       "Consumer Non-Durables      0.119361      3  "
      ]
     },
     "execution_count": 15,
     "metadata": {},
     "output_type": "execute_result"
    }
   ],
   "source": [
    "# Display the return, volatility and Sharpe Ratio for each sector\n",
    "group_sectors = df_stocks.groupby('Sector')['Annual Return', 'Annual Volatility', 'Sharpe Ratio'].mean().dropna()\n",
    "\n",
    "# Count the number of values in each category\n",
    "group_sectors['Count'] = df_stocks.groupby('Sector')['Sharpe Ratio'].count()\n",
    "\n",
    "# Add a feature 'cyclical', or 'defensive'\n",
    "cyclical = ['Finance', 'Technology', 'Consumer Durables', 'Miscellaneous', 'Capital Goods']\n",
    "defensive = ['Health Care', 'Public Utilities', 'Consumer Non-Durables', 'Transportation', 'Consumer Services']\n",
    "sectors = list(group_sectors.index)\n",
    "eco_cycle = pd.DataFrame()\n",
    "\n",
    "for sector in sectors :\n",
    "    if sector in cyclical :\n",
    "        #group_sectors.loc[sector, 'Economic cycle'] = 'Cyclical'\n",
    "        eco_cycle.loc[sector, 'Cycle'] = 'Cyclical'\n",
    "    else :\n",
    "        #group_sectors.loc[sector, 'Economic cycle'] = 'Defensive'\n",
    "        eco_cycle.loc[sector, 'Cycle'] = 'Defensive'\n",
    "    \n",
    "# Insert this series in our dataframe\n",
    "group_sectors.insert(0, column='Cyclicality', value=eco_cycle)\n",
    "    \n",
    "# Order the rows \n",
    "group_sectors.sort_values(by='Sharpe Ratio', ascending=False)"
   ]
  },
  {
   "cell_type": "code",
   "execution_count": 16,
   "metadata": {},
   "outputs": [
    {
     "data": {
      "image/png": "[encoded data removed]",
      "text/plain": [
       "<Figure size 1080x432 with 2 Axes>"
      ]
     },
     "metadata": {
      "needs_background": "light"
     },
     "output_type": "display_data"
    }
   ],
   "source": [
    "# 3 columns used for the bar plot\n",
    "x = group_sectors['Annual Volatility']\n",
    "y = group_sectors['Sharpe Ratio']\n",
    "z = group_sectors['Annual Return']\n",
    "\n",
    "# List containing the sectors\n",
    "sector_list = list(group_sectors.index)\n",
    "indices = np.arange(10)\n",
    "width = 0.1\n",
    "\n",
    "fig = plt.figure(figsize=(15, 6))\n",
    "ax = fig.add_subplot(111)\n",
    "\n",
    "# Bar of the volatility and Sharpe ratio on the left axis\n",
    "ax.bar(indices - width - 0.05, x, width, color='orangered', label='Volatility')\n",
    "ax1 = ax.bar(indices, z, width, color='seagreen', label='Return')\n",
    "\n",
    "# Return bar plot on the right axis\n",
    "ax2 = ax.twinx()\n",
    "ax2.bar(indices + width + 0.05, y, width, color='black', label='Sharpe Ratio')\n",
    "ax2.grid(False)\n",
    "\n",
    "# Setting the title, legend, x-label\n",
    "ax.set_title('NASDAQ100 Sectorial risk, return and Sharpe Ratio')\n",
    "ax.legend(loc='upper left')\n",
    "ax2.legend(loc='upper right')\n",
    "\n",
    "plt.xticks(indices, labels = sector_list, rotation=45)\n",
    "ax.tick_params(axis='x', rotation=45)\n",
    "\n",
    "plt.show()"
   ]
  },
  {
   "cell_type": "markdown",
   "metadata": {},
   "source": [
    "We must be careful here, as the companies repartition among the sectors is not uniform : we can't really give a general estimation for the 'Consumer Durables', or the 'Transportation' industry's Sharpe Ratio for example, as they don't contain enough data.\n",
    "The leading position of the Consumer Durables might be due to one outstanding stock, and may not reflect the general trend."
   ]
  },
  {
   "cell_type": "code",
   "execution_count": 17,
   "metadata": {},
   "outputs": [
    {
     "data": {
      "text/html": [
       "<div>\n",
       "<style scoped>\n",
       "    .dataframe tbody tr th:only-of-type {\n",
       "        vertical-align: middle;\n",
       "    }\n",
       "\n",
       "    .dataframe tbody tr th {\n",
       "        vertical-align: top;\n",
       "    }\n",
       "\n",
       "    .dataframe thead th {\n",
       "        text-align: right;\n",
       "    }\n",
       "</style>\n",
       "<table border=\"1\" class=\"dataframe\">\n",
       "  <thead>\n",
       "    <tr style=\"text-align: right;\">\n",
       "      <th></th>\n",
       "      <th>Annual Return</th>\n",
       "      <th>Annual Volatility</th>\n",
       "      <th>Sharpe Ratio</th>\n",
       "    </tr>\n",
       "    <tr>\n",
       "      <th>Cyclicality</th>\n",
       "      <th></th>\n",
       "      <th></th>\n",
       "      <th></th>\n",
       "    </tr>\n",
       "  </thead>\n",
       "  <tbody>\n",
       "    <tr>\n",
       "      <th>Cyclical</th>\n",
       "      <td>17.905973</td>\n",
       "      <td>26.669399</td>\n",
       "      <td>0.600928</td>\n",
       "    </tr>\n",
       "    <tr>\n",
       "      <th>Defensive</th>\n",
       "      <td>11.563330</td>\n",
       "      <td>27.927051</td>\n",
       "      <td>0.333702</td>\n",
       "    </tr>\n",
       "  </tbody>\n",
       "</table>\n",
       "</div>"
      ],
      "text/plain": [
       "             Annual Return  Annual Volatility  Sharpe Ratio\n",
       "Cyclicality                                                \n",
       "Cyclical         17.905973          26.669399      0.600928\n",
       "Defensive        11.563330          27.927051      0.333702"
      ]
     },
     "execution_count": 17,
     "metadata": {},
     "output_type": "execute_result"
    }
   ],
   "source": [
    "cycle_group = group_sectors.groupby('Cyclicality')['Annual Return', 'Annual Volatility', 'Sharpe Ratio'].mean()\n",
    "cycle_group"
   ]
  },
  {
   "cell_type": "markdown",
   "metadata": {},
   "source": [
    "As we would expect, cyclical industries tend to offer a much higher rate of return (17.7% vs 11.4%), which make sense if we believe that those kind of industries tend to amplify the market movement. During the years 2015-2019 the economy was in a bull market, hence the good performances of these sectors.\n",
    "This is the reason why they score higher in the return to volatility ratio.\n",
    "\n",
    "However, it's quite surprising to note that the annual volatility of the defensive values is slightly higher than the cyclical one. It could be due to the Health Care industry, a very large contributor in the Defensive field, which pushes up the average with its 30.2% volatility."
   ]
  }
 ],
 "metadata": {
  "kernelspec": {
   "display_name": "Python 3",
   "language": "python",
   "name": "python3"
  },
  "language_info": {
   "codemirror_mode": {
    "name": "ipython",
    "version": 3
   },
   "file_extension": ".py",
   "mimetype": "text/x-python",
   "name": "python",
   "nbconvert_exporter": "python",
   "pygments_lexer": "ipython3",
   "version": "3.7.1"
  }
 },
 "nbformat": 4,
 "nbformat_minor": 2
}
