{
 "cells": [
  {
   "cell_type": "code",
   "execution_count": 4,
   "metadata": {},
   "outputs": [],
   "source": [
    "# Required libraries\n",
    "\n",
    "import pandas as pd\n",
    "import matplotlib.pyplot as plt \n",
    "from pandas_datareader.data import DataReader\n",
    "from datetime import date\n",
    "import quandl"
   ]
  },
  {
   "cell_type": "code",
   "execution_count": 5,
   "metadata": {},
   "outputs": [
    {
     "data": {
      "text/plain": [
       "Trade Date\n",
       "2015-01-02    4726.81\n",
       "2015-01-05    4652.57\n",
       "2015-01-06    4592.74\n",
       "2015-01-07    4650.47\n",
       "2015-01-08    4736.19\n",
       "Name: Index Value, dtype: float64"
      ]
     },
     "execution_count": 5,
     "metadata": {},
     "output_type": "execute_result"
    },
    {
     "data": {
      "image/png": "[encoded data removed]",
      "text/plain": [
       "<Figure size 432x288 with 1 Axes>"
      ]
     },
     "metadata": {
      "needs_background": "light"
     },
     "output_type": "display_data"
    }
   ],
   "source": [
    "# Get the financial data of the NASDAQ\n",
    "\n",
    "start = date(2015, 1, 1)\n",
    "end = date(2019, 1, 1)       # Timeframe of analysis\n",
    "\n",
    "index_ref = quandl.get('NASDAQOMX/COMP-NASDAQ', start_date = start, end_date = end)['Index Value']\n",
    "index_ref.plot(title = 'NASDAQ')\n",
    "\n",
    "index_ref.head()             # index_ref is a Pandas Serie"
   ]
  },
  {
   "cell_type": "code",
   "execution_count": 6,
   "metadata": {},
   "outputs": [
    {
     "name": "stdout",
     "output_type": "stream",
     "text": [
      "<class 'pandas.core.frame.DataFrame'>\n",
      "Index: 3167 entries, AAPL to ZIONZ\n",
      "Data columns (total 3 columns):\n",
      "Company Name    3167 non-null object\n",
      "Sector          2767 non-null object\n",
      "Industry        2767 non-null object\n",
      "dtypes: object(3)\n",
      "memory usage: 99.0+ KB\n"
     ]
    }
   ],
   "source": [
    "# Get the financial data of the stocks\n",
    "\n",
    "stocks_data = pd.read_excel(r'Listings.xlsx', sheet_name='nasdaq')\n",
    "\n",
    "stocks_ticker = stocks_data['Stock Symbol']\n",
    "stocks_ticker_list = stocks_ticker.tolist()    #list containing all the tickers\n",
    "\n",
    "limited_list = stocks_ticker_list[:15]  # to work on a small sample\n",
    "\n",
    "stocks_data = stocks_data.set_index('Stock Symbol')\n",
    "\n",
    "stocks_data.info()"
   ]
  },
  {
   "cell_type": "code",
   "execution_count": 7,
   "metadata": {},
   "outputs": [
    {
     "data": {
      "text/html": [
       "<div>\n",
       "<style scoped>\n",
       "    .dataframe tbody tr th:only-of-type {\n",
       "        vertical-align: middle;\n",
       "    }\n",
       "\n",
       "    .dataframe tbody tr th {\n",
       "        vertical-align: top;\n",
       "    }\n",
       "\n",
       "    .dataframe thead th {\n",
       "        text-align: right;\n",
       "    }\n",
       "</style>\n",
       "<table border=\"1\" class=\"dataframe\">\n",
       "  <thead>\n",
       "    <tr style=\"text-align: right;\">\n",
       "      <th>Symbols</th>\n",
       "      <th>AAPL</th>\n",
       "      <th>AMGN</th>\n",
       "      <th>AMZN</th>\n",
       "      <th>CELG</th>\n",
       "      <th>CHTR</th>\n",
       "      <th>CMCSA</th>\n",
       "      <th>CSCO</th>\n",
       "      <th>FB</th>\n",
       "      <th>GILD</th>\n",
       "      <th>GOOG</th>\n",
       "      <th>GOOGL</th>\n",
       "      <th>INTC</th>\n",
       "      <th>KHC</th>\n",
       "      <th>MSFT</th>\n",
       "      <th>WBA</th>\n",
       "    </tr>\n",
       "    <tr>\n",
       "      <th>date</th>\n",
       "      <th></th>\n",
       "      <th></th>\n",
       "      <th></th>\n",
       "      <th></th>\n",
       "      <th></th>\n",
       "      <th></th>\n",
       "      <th></th>\n",
       "      <th></th>\n",
       "      <th></th>\n",
       "      <th></th>\n",
       "      <th></th>\n",
       "      <th></th>\n",
       "      <th></th>\n",
       "      <th></th>\n",
       "      <th></th>\n",
       "    </tr>\n",
       "  </thead>\n",
       "  <tbody>\n",
       "    <tr>\n",
       "      <th>2015-01-02</th>\n",
       "      <td>101.5280</td>\n",
       "      <td>143.2089</td>\n",
       "      <td>308.52</td>\n",
       "      <td>113.52</td>\n",
       "      <td>166.43</td>\n",
       "      <td>26.5571</td>\n",
       "      <td>24.2375</td>\n",
       "      <td>78.450</td>\n",
       "      <td>85.5094</td>\n",
       "      <td>524.81</td>\n",
       "      <td>529.55</td>\n",
       "      <td>32.2114</td>\n",
       "      <td>NaN</td>\n",
       "      <td>42.4187</td>\n",
       "      <td>69.8541</td>\n",
       "    </tr>\n",
       "    <tr>\n",
       "      <th>2015-01-05</th>\n",
       "      <td>98.6678</td>\n",
       "      <td>141.5071</td>\n",
       "      <td>302.19</td>\n",
       "      <td>111.93</td>\n",
       "      <td>160.50</td>\n",
       "      <td>26.0155</td>\n",
       "      <td>23.7546</td>\n",
       "      <td>77.190</td>\n",
       "      <td>87.1987</td>\n",
       "      <td>513.87</td>\n",
       "      <td>519.46</td>\n",
       "      <td>31.8482</td>\n",
       "      <td>NaN</td>\n",
       "      <td>42.0241</td>\n",
       "      <td>68.4754</td>\n",
       "    </tr>\n",
       "    <tr>\n",
       "      <th>2015-01-06</th>\n",
       "      <td>98.6771</td>\n",
       "      <td>136.9481</td>\n",
       "      <td>295.29</td>\n",
       "      <td>110.51</td>\n",
       "      <td>156.31</td>\n",
       "      <td>25.6761</td>\n",
       "      <td>23.7459</td>\n",
       "      <td>76.150</td>\n",
       "      <td>87.9780</td>\n",
       "      <td>501.96</td>\n",
       "      <td>506.64</td>\n",
       "      <td>31.2546</td>\n",
       "      <td>NaN</td>\n",
       "      <td>41.4118</td>\n",
       "      <td>68.6501</td>\n",
       "    </tr>\n",
       "    <tr>\n",
       "      <th>2015-01-07</th>\n",
       "      <td>100.0607</td>\n",
       "      <td>141.7310</td>\n",
       "      <td>298.42</td>\n",
       "      <td>114.55</td>\n",
       "      <td>156.79</td>\n",
       "      <td>25.6529</td>\n",
       "      <td>23.9653</td>\n",
       "      <td>76.150</td>\n",
       "      <td>89.6268</td>\n",
       "      <td>501.10</td>\n",
       "      <td>505.15</td>\n",
       "      <td>31.9102</td>\n",
       "      <td>NaN</td>\n",
       "      <td>41.9379</td>\n",
       "      <td>70.4056</td>\n",
       "    </tr>\n",
       "    <tr>\n",
       "      <th>2015-01-08</th>\n",
       "      <td>103.9053</td>\n",
       "      <td>141.2205</td>\n",
       "      <td>300.46</td>\n",
       "      <td>115.05</td>\n",
       "      <td>162.94</td>\n",
       "      <td>26.2107</td>\n",
       "      <td>24.1497</td>\n",
       "      <td>78.175</td>\n",
       "      <td>92.1675</td>\n",
       "      <td>502.68</td>\n",
       "      <td>506.91</td>\n",
       "      <td>32.5037</td>\n",
       "      <td>NaN</td>\n",
       "      <td>43.1716</td>\n",
       "      <td>71.2788</td>\n",
       "    </tr>\n",
       "  </tbody>\n",
       "</table>\n",
       "</div>"
      ],
      "text/plain": [
       "Symbols         AAPL      AMGN    AMZN    CELG    CHTR    CMCSA     CSCO  \\\n",
       "date                                                                       \n",
       "2015-01-02  101.5280  143.2089  308.52  113.52  166.43  26.5571  24.2375   \n",
       "2015-01-05   98.6678  141.5071  302.19  111.93  160.50  26.0155  23.7546   \n",
       "2015-01-06   98.6771  136.9481  295.29  110.51  156.31  25.6761  23.7459   \n",
       "2015-01-07  100.0607  141.7310  298.42  114.55  156.79  25.6529  23.9653   \n",
       "2015-01-08  103.9053  141.2205  300.46  115.05  162.94  26.2107  24.1497   \n",
       "\n",
       "Symbols         FB     GILD    GOOG   GOOGL     INTC  KHC     MSFT      WBA  \n",
       "date                                                                         \n",
       "2015-01-02  78.450  85.5094  524.81  529.55  32.2114  NaN  42.4187  69.8541  \n",
       "2015-01-05  77.190  87.1987  513.87  519.46  31.8482  NaN  42.0241  68.4754  \n",
       "2015-01-06  76.150  87.9780  501.96  506.64  31.2546  NaN  41.4118  68.6501  \n",
       "2015-01-07  76.150  89.6268  501.10  505.15  31.9102  NaN  41.9379  70.4056  \n",
       "2015-01-08  78.175  92.1675  502.68  506.91  32.5037  NaN  43.1716  71.2788  "
      ]
     },
     "execution_count": 7,
     "metadata": {},
     "output_type": "execute_result"
    },
    {
     "data": {
      "image/png": "[encoded data removed]",
      "text/plain": [
       "<Figure size 432x288 with 2 Axes>"
      ]
     },
     "metadata": {
      "needs_background": "light"
     },
     "output_type": "display_data"
    }
   ],
   "source": [
    "ticker = limited_list[:]\n",
    "\n",
    "stocks = DataReader(ticker, 'iex', start, end)['close']   # daily market price\n",
    "\n",
    "stocks.loc[:, ['AAPL', 'AMZN']].plot(subplots=True)   # need the date on x-axis\n",
    "\n",
    "stocks.head()"
   ]
  },
  {
   "cell_type": "code",
   "execution_count": 8,
   "metadata": {},
   "outputs": [
    {
     "data": {
      "text/plain": [
       "Trade Date\n",
       "2015-01-02         NaN\n",
       "2015-01-05   -1.570615\n",
       "2015-01-06   -1.285956\n",
       "2015-01-07    1.256984\n",
       "2015-01-08    1.843255\n",
       "Name: Index Value, dtype: float64"
      ]
     },
     "execution_count": 8,
     "metadata": {},
     "output_type": "execute_result"
    },
    {
     "data": {
      "image/png": "[encoded data removed]",
      "text/plain": [
       "<Figure size 432x288 with 1 Axes>"
      ]
     },
     "metadata": {
      "needs_background": "light"
     },
     "output_type": "display_data"
    }
   ],
   "source": [
    "# Calculate daily return of NASDAQ\n",
    "\n",
    "index_daily_return = index_ref.pct_change() * 100  # *100 for having in %\n",
    "\n",
    "index_daily_return.plot(title='NASDAQ Daily Return')\n",
    "index_daily_return.head()"
   ]
  },
  {
   "cell_type": "code",
   "execution_count": 1,
   "metadata": {},
   "outputs": [
    {
     "ename": "NameError",
     "evalue": "name 'stocks' is not defined",
     "output_type": "error",
     "traceback": [
      "\u001b[1;31m---------------------------------------------------------------------------\u001b[0m",
      "\u001b[1;31mNameError\u001b[0m                                 Traceback (most recent call last)",
      "\u001b[1;32m<ipython-input-1-75f2f8be3c26>\u001b[0m in \u001b[0;36m<module>\u001b[1;34m\u001b[0m\n\u001b[0;32m      1\u001b[0m \u001b[1;31m# Calculate stocks daily return\u001b[0m\u001b[1;33m\u001b[0m\u001b[1;33m\u001b[0m\u001b[1;33m\u001b[0m\u001b[0m\n\u001b[0;32m      2\u001b[0m \u001b[1;33m\u001b[0m\u001b[0m\n\u001b[1;32m----> 3\u001b[1;33m \u001b[0mstocks_daily_return\u001b[0m \u001b[1;33m=\u001b[0m \u001b[0mstocks\u001b[0m\u001b[1;33m.\u001b[0m\u001b[0mpct_change\u001b[0m\u001b[1;33m(\u001b[0m\u001b[1;33m)\u001b[0m \u001b[1;33m*\u001b[0m \u001b[1;36m100\u001b[0m\u001b[1;33m\u001b[0m\u001b[1;33m\u001b[0m\u001b[0m\n\u001b[0m\u001b[0;32m      4\u001b[0m \u001b[1;33m\u001b[0m\u001b[0m\n\u001b[0;32m      5\u001b[0m \u001b[0mstocks_daily_return\u001b[0m\u001b[1;33m.\u001b[0m\u001b[0mplot\u001b[0m\u001b[1;33m(\u001b[0m\u001b[0mfigsize\u001b[0m \u001b[1;33m=\u001b[0m \u001b[1;33m(\u001b[0m\u001b[1;36m15\u001b[0m\u001b[1;33m,\u001b[0m \u001b[1;36m5\u001b[0m\u001b[1;33m)\u001b[0m\u001b[1;33m,\u001b[0m \u001b[0mkind\u001b[0m \u001b[1;33m=\u001b[0m \u001b[1;34m'box'\u001b[0m\u001b[1;33m,\u001b[0m \u001b[0mtitle\u001b[0m\u001b[1;33m=\u001b[0m\u001b[1;34m'Stocks Daily return'\u001b[0m\u001b[1;33m)\u001b[0m\u001b[1;33m\u001b[0m\u001b[1;33m\u001b[0m\u001b[0m\n",
      "\u001b[1;31mNameError\u001b[0m: name 'stocks' is not defined"
     ]
    }
   ],
   "source": [
    "# Calculate stocks daily return\n",
    "\n",
    "stocks_daily_return = stocks.pct_change() * 100   \n",
    "\n",
    "stocks_daily_return.plot(figsize = (15, 5), kind = 'box', title='Stocks Daily return')\n",
    "stocks_daily_return.head()"
   ]
  },
  {
   "cell_type": "code",
   "execution_count": 107,
   "metadata": {},
   "outputs": [
    {
     "data": {
      "text/html": [
       "<div>\n",
       "<style scoped>\n",
       "    .dataframe tbody tr th:only-of-type {\n",
       "        vertical-align: middle;\n",
       "    }\n",
       "\n",
       "    .dataframe tbody tr th {\n",
       "        vertical-align: top;\n",
       "    }\n",
       "\n",
       "    .dataframe thead th {\n",
       "        text-align: right;\n",
       "    }\n",
       "</style>\n",
       "<table border=\"1\" class=\"dataframe\">\n",
       "  <thead>\n",
       "    <tr style=\"text-align: right;\">\n",
       "      <th></th>\n",
       "      <th>Daily return</th>\n",
       "    </tr>\n",
       "    <tr>\n",
       "      <th>Symbols</th>\n",
       "      <th></th>\n",
       "    </tr>\n",
       "  </thead>\n",
       "  <tbody>\n",
       "    <tr>\n",
       "      <th>AAPL</th>\n",
       "      <td>0.055401</td>\n",
       "    </tr>\n",
       "    <tr>\n",
       "      <th>AMGN</th>\n",
       "      <td>0.041093</td>\n",
       "    </tr>\n",
       "    <tr>\n",
       "      <th>AMZN</th>\n",
       "      <td>0.175961</td>\n",
       "    </tr>\n",
       "    <tr>\n",
       "      <th>CELG</th>\n",
       "      <td>-0.037637</td>\n",
       "    </tr>\n",
       "    <tr>\n",
       "      <th>CHTR</th>\n",
       "      <td>0.069839</td>\n",
       "    </tr>\n",
       "  </tbody>\n",
       "</table>\n",
       "</div>"
      ],
      "text/plain": [
       "         Daily return\n",
       "Symbols              \n",
       "AAPL         0.055401\n",
       "AMGN         0.041093\n",
       "AMZN         0.175961\n",
       "CELG        -0.037637\n",
       "CHTR         0.069839"
      ]
     },
     "execution_count": 107,
     "metadata": {},
     "output_type": "execute_result"
    },
    {
     "data": {
      "image/png": "[encoded data removed]",
      "text/plain": [
       "<Figure size 432x288 with 1 Axes>"
      ]
     },
     "metadata": {
      "needs_background": "light"
     },
     "output_type": "display_data"
    }
   ],
   "source": [
    "# Calculate the average daily return\n",
    "\n",
    "avg_index_daily_return = index_daily_return.mean()\n",
    "avg_stocks_daily_return = stocks_daily_return.mean()\n",
    "\n",
    "avg_stocks_daily_return.plot(kind = 'bar', title = 'Stocks daily return')\n",
    "\n",
    "avg_stocks_daily_return_df = pd.DataFrame(avg_stocks_daily_return)\n",
    "avg_stocks_daily_return_df.columns = ['Daily return']\n",
    "\n",
    "avg_stocks_daily_return_df.head()"
   ]
  },
  {
   "cell_type": "code",
   "execution_count": 113,
   "metadata": {},
   "outputs": [
    {
     "data": {
      "text/plain": [
       "0.03904821107576447"
      ]
     },
     "execution_count": 113,
     "metadata": {},
     "output_type": "execute_result"
    }
   ],
   "source": [
    "avg_index_daily_return"
   ]
  },
  {
   "cell_type": "code",
   "execution_count": 108,
   "metadata": {
    "scrolled": true
   },
   "outputs": [
    {
     "data": {
      "text/html": [
       "<div>\n",
       "<style scoped>\n",
       "    .dataframe tbody tr th:only-of-type {\n",
       "        vertical-align: middle;\n",
       "    }\n",
       "\n",
       "    .dataframe tbody tr th {\n",
       "        vertical-align: top;\n",
       "    }\n",
       "\n",
       "    .dataframe thead th {\n",
       "        text-align: right;\n",
       "    }\n",
       "</style>\n",
       "<table border=\"1\" class=\"dataframe\">\n",
       "  <thead>\n",
       "    <tr style=\"text-align: right;\">\n",
       "      <th></th>\n",
       "      <th>Volatility</th>\n",
       "    </tr>\n",
       "    <tr>\n",
       "      <th>Symbols</th>\n",
       "      <th></th>\n",
       "    </tr>\n",
       "  </thead>\n",
       "  <tbody>\n",
       "    <tr>\n",
       "      <th>AAPL</th>\n",
       "      <td>1.548310</td>\n",
       "    </tr>\n",
       "    <tr>\n",
       "      <th>AMGN</th>\n",
       "      <td>1.502969</td>\n",
       "    </tr>\n",
       "    <tr>\n",
       "      <th>AMZN</th>\n",
       "      <td>1.930075</td>\n",
       "    </tr>\n",
       "    <tr>\n",
       "      <th>CELG</th>\n",
       "      <td>1.952415</td>\n",
       "    </tr>\n",
       "    <tr>\n",
       "      <th>CHTR</th>\n",
       "      <td>1.808698</td>\n",
       "    </tr>\n",
       "  </tbody>\n",
       "</table>\n",
       "</div>"
      ],
      "text/plain": [
       "         Volatility\n",
       "Symbols            \n",
       "AAPL       1.548310\n",
       "AMGN       1.502969\n",
       "AMZN       1.930075\n",
       "CELG       1.952415\n",
       "CHTR       1.808698"
      ]
     },
     "execution_count": 108,
     "metadata": {},
     "output_type": "execute_result"
    },
    {
     "data": {
      "image/png": "[encoded data removed]",
      "text/plain": [
       "<Figure size 432x288 with 1 Axes>"
      ]
     },
     "metadata": {
      "needs_background": "light"
     },
     "output_type": "display_data"
    }
   ],
   "source": [
    "# Calculate the risk of each investment\n",
    "\n",
    "index_volatility = index_daily_return.std()\n",
    "\n",
    "stocks_volatility = stocks_daily_return.std()\n",
    "\n",
    "stocks_volatility.plot(kind = 'bar', title = 'Stocks volatility')\n",
    "\n",
    "stocks_volatility_df = pd.DataFrame(stocks_volatility)\n",
    "stocks_volatility_df.columns = ['Volatility']\n",
    "\n",
    "stocks_volatility_df.head()"
   ]
  },
  {
   "cell_type": "code",
   "execution_count": 114,
   "metadata": {},
   "outputs": [
    {
     "data": {
      "text/html": [
       "<div>\n",
       "<style scoped>\n",
       "    .dataframe tbody tr th:only-of-type {\n",
       "        vertical-align: middle;\n",
       "    }\n",
       "\n",
       "    .dataframe tbody tr th {\n",
       "        vertical-align: top;\n",
       "    }\n",
       "\n",
       "    .dataframe thead th {\n",
       "        text-align: right;\n",
       "    }\n",
       "</style>\n",
       "<table border=\"1\" class=\"dataframe\">\n",
       "  <thead>\n",
       "    <tr style=\"text-align: right;\">\n",
       "      <th></th>\n",
       "      <th>Sharpe Ratio</th>\n",
       "    </tr>\n",
       "    <tr>\n",
       "      <th>Symbols</th>\n",
       "      <th></th>\n",
       "    </tr>\n",
       "  </thead>\n",
       "  <tbody>\n",
       "    <tr>\n",
       "      <th>AAPL</th>\n",
       "      <td>0.010562</td>\n",
       "    </tr>\n",
       "    <tr>\n",
       "      <th>AMGN</th>\n",
       "      <td>0.001361</td>\n",
       "    </tr>\n",
       "    <tr>\n",
       "      <th>AMZN</th>\n",
       "      <td>0.070937</td>\n",
       "    </tr>\n",
       "    <tr>\n",
       "      <th>CELG</th>\n",
       "      <td>-0.039277</td>\n",
       "    </tr>\n",
       "    <tr>\n",
       "      <th>CHTR</th>\n",
       "      <td>0.017024</td>\n",
       "    </tr>\n",
       "  </tbody>\n",
       "</table>\n",
       "</div>"
      ],
      "text/plain": [
       "         Sharpe Ratio\n",
       "Symbols              \n",
       "AAPL         0.010562\n",
       "AMGN         0.001361\n",
       "AMZN         0.070937\n",
       "CELG        -0.039277\n",
       "CHTR         0.017024"
      ]
     },
     "execution_count": 114,
     "metadata": {},
     "output_type": "execute_result"
    }
   ],
   "source": [
    "# Calculate each stock Sharpe Ratio\n",
    "\n",
    "stocks_SharpeRatio = (avg_stocks_daily_return - avg_index_daily_return) / stocks_volatility\n",
    "\n",
    "stocks_SharpeRatio.head()\n",
    "\n",
    "stocks_SharpeRatio_df = pd.DataFrame(stocks_SharpeRatio)\n",
    "stocks_SharpeRatio_df.columns = ['Sharpe Ratio']\n",
    "\n",
    "stocks_SharpeRatio_df.head()"
   ]
  },
  {
   "cell_type": "code",
   "execution_count": 115,
   "metadata": {},
   "outputs": [
    {
     "data": {
      "image/png": "[encoded data removed]",
      "text/plain": [
       "<Figure size 432x288 with 1 Axes>"
      ]
     },
     "metadata": {
      "needs_background": "light"
     },
     "output_type": "display_data"
    }
   ],
   "source": [
    "plt.axis([-0.1, 0.2, 1, 2.2])\n",
    "\n",
    "plt.scatter(avg_stocks_daily_return, stocks_volatility)\n",
    "plt.xlabel('Average return (%)')\n",
    "plt.ylabel('Volatility (%)')\n",
    "\n",
    "plt.show()"
   ]
  },
  {
   "cell_type": "code",
   "execution_count": 117,
   "metadata": {},
   "outputs": [
    {
     "data": {
      "text/html": [
       "<div>\n",
       "<style scoped>\n",
       "    .dataframe tbody tr th:only-of-type {\n",
       "        vertical-align: middle;\n",
       "    }\n",
       "\n",
       "    .dataframe tbody tr th {\n",
       "        vertical-align: top;\n",
       "    }\n",
       "\n",
       "    .dataframe thead th {\n",
       "        text-align: right;\n",
       "    }\n",
       "</style>\n",
       "<table border=\"1\" class=\"dataframe\">\n",
       "  <thead>\n",
       "    <tr style=\"text-align: right;\">\n",
       "      <th></th>\n",
       "      <th>Company Name</th>\n",
       "      <th>Sector</th>\n",
       "      <th>Industry</th>\n",
       "      <th>Daily return</th>\n",
       "      <th>Volatility</th>\n",
       "      <th>Sharpe Ratio</th>\n",
       "    </tr>\n",
       "  </thead>\n",
       "  <tbody>\n",
       "    <tr>\n",
       "      <th>AAPL</th>\n",
       "      <td>Apple Inc.</td>\n",
       "      <td>Technology</td>\n",
       "      <td>Computer Manufacturing</td>\n",
       "      <td>0.055401</td>\n",
       "      <td>1.548310</td>\n",
       "      <td>0.010562</td>\n",
       "    </tr>\n",
       "    <tr>\n",
       "      <th>GOOGL</th>\n",
       "      <td>Alphabet Inc.</td>\n",
       "      <td>Technology</td>\n",
       "      <td>Computer Software: Programming, Data Processing</td>\n",
       "      <td>0.078775</td>\n",
       "      <td>1.499629</td>\n",
       "      <td>0.026491</td>\n",
       "    </tr>\n",
       "    <tr>\n",
       "      <th>GOOG</th>\n",
       "      <td>Alphabet Inc.</td>\n",
       "      <td>Technology</td>\n",
       "      <td>Computer Software: Programming, Data Processing</td>\n",
       "      <td>0.078939</td>\n",
       "      <td>1.511036</td>\n",
       "      <td>0.026400</td>\n",
       "    </tr>\n",
       "    <tr>\n",
       "      <th>MSFT</th>\n",
       "      <td>Microsoft Corporation</td>\n",
       "      <td>Technology</td>\n",
       "      <td>Computer Software: Prepackaged Software</td>\n",
       "      <td>0.097975</td>\n",
       "      <td>1.518697</td>\n",
       "      <td>0.038801</td>\n",
       "    </tr>\n",
       "    <tr>\n",
       "      <th>AMZN</th>\n",
       "      <td>Amazon.com, Inc.</td>\n",
       "      <td>Consumer Services</td>\n",
       "      <td>Catalog/Specialty Distribution</td>\n",
       "      <td>0.175961</td>\n",
       "      <td>1.930075</td>\n",
       "      <td>0.070937</td>\n",
       "    </tr>\n",
       "  </tbody>\n",
       "</table>\n",
       "</div>"
      ],
      "text/plain": [
       "                Company Name             Sector  \\\n",
       "AAPL              Apple Inc.         Technology   \n",
       "GOOGL          Alphabet Inc.         Technology   \n",
       "GOOG           Alphabet Inc.         Technology   \n",
       "MSFT   Microsoft Corporation         Technology   \n",
       "AMZN        Amazon.com, Inc.  Consumer Services   \n",
       "\n",
       "                                              Industry  Daily return  \\\n",
       "AAPL                            Computer Manufacturing      0.055401   \n",
       "GOOGL  Computer Software: Programming, Data Processing      0.078775   \n",
       "GOOG   Computer Software: Programming, Data Processing      0.078939   \n",
       "MSFT           Computer Software: Prepackaged Software      0.097975   \n",
       "AMZN                    Catalog/Specialty Distribution      0.175961   \n",
       "\n",
       "       Volatility  Sharpe Ratio  \n",
       "AAPL     1.548310      0.010562  \n",
       "GOOGL    1.499629      0.026491  \n",
       "GOOG     1.511036      0.026400  \n",
       "MSFT     1.518697      0.038801  \n",
       "AMZN     1.930075      0.070937  "
      ]
     },
     "execution_count": 117,
     "metadata": {},
     "output_type": "execute_result"
    }
   ],
   "source": [
    "#stocks_data_sectors = stocks_data.groupby('Sector')\n",
    "\n",
    "y = stocks_data[:15]\n",
    "#pd.merge(left = y, right = avg_stocks_daily_return_df, on = None, left_on = 'Stock Symbol', right_on = 'Daily return')\n",
    "y = pd.concat([y, avg_stocks_daily_return_df, stocks_volatility_df, stocks_SharpeRatio_df], axis=1, sort=False)\n",
    "\n",
    "y.head()"
   ]
  },
  {
   "cell_type": "code",
   "execution_count": 124,
   "metadata": {},
   "outputs": [
    {
     "data": {
      "text/html": [
       "<div>\n",
       "<style scoped>\n",
       "    .dataframe tbody tr th:only-of-type {\n",
       "        vertical-align: middle;\n",
       "    }\n",
       "\n",
       "    .dataframe tbody tr th {\n",
       "        vertical-align: top;\n",
       "    }\n",
       "\n",
       "    .dataframe thead th {\n",
       "        text-align: right;\n",
       "    }\n",
       "</style>\n",
       "<table border=\"1\" class=\"dataframe\">\n",
       "  <thead>\n",
       "    <tr style=\"text-align: right;\">\n",
       "      <th></th>\n",
       "      <th>Daily return</th>\n",
       "    </tr>\n",
       "    <tr>\n",
       "      <th>Sector</th>\n",
       "      <th></th>\n",
       "    </tr>\n",
       "  </thead>\n",
       "  <tbody>\n",
       "    <tr>\n",
       "      <th>Consumer Non-Durables</th>\n",
       "      <td>-0.036490</td>\n",
       "    </tr>\n",
       "    <tr>\n",
       "      <th>Consumer Services</th>\n",
       "      <td>0.093302</td>\n",
       "    </tr>\n",
       "    <tr>\n",
       "      <th>Health Care</th>\n",
       "      <td>-0.001608</td>\n",
       "    </tr>\n",
       "    <tr>\n",
       "      <th>Technology</th>\n",
       "      <td>0.070631</td>\n",
       "    </tr>\n",
       "  </tbody>\n",
       "</table>\n",
       "</div>"
      ],
      "text/plain": [
       "                       Daily return\n",
       "Sector                             \n",
       "Consumer Non-Durables     -0.036490\n",
       "Consumer Services          0.093302\n",
       "Health Care               -0.001608\n",
       "Technology                 0.070631"
      ]
     },
     "execution_count": 124,
     "metadata": {},
     "output_type": "execute_result"
    }
   ],
   "source": [
    "# Sector analysis : Daily return\n",
    "return_by_sector = y.groupby('Sector')['Daily return'].mean()\n",
    "\n",
    "return_by_sector = pd.DataFrame(return_by_sector)\n",
    "return_by_sector.columns = ['Daily return']\n",
    "\n",
    "return_by_sector"
   ]
  },
  {
   "cell_type": "code",
   "execution_count": 125,
   "metadata": {},
   "outputs": [
    {
     "data": {
      "text/html": [
       "<div>\n",
       "<style scoped>\n",
       "    .dataframe tbody tr th:only-of-type {\n",
       "        vertical-align: middle;\n",
       "    }\n",
       "\n",
       "    .dataframe tbody tr th {\n",
       "        vertical-align: top;\n",
       "    }\n",
       "\n",
       "    .dataframe thead th {\n",
       "        text-align: right;\n",
       "    }\n",
       "</style>\n",
       "<table border=\"1\" class=\"dataframe\">\n",
       "  <thead>\n",
       "    <tr style=\"text-align: right;\">\n",
       "      <th></th>\n",
       "      <th>Volatility</th>\n",
       "    </tr>\n",
       "    <tr>\n",
       "      <th>Sector</th>\n",
       "      <th></th>\n",
       "    </tr>\n",
       "  </thead>\n",
       "  <tbody>\n",
       "    <tr>\n",
       "      <th>Consumer Non-Durables</th>\n",
       "      <td>1.389738</td>\n",
       "    </tr>\n",
       "    <tr>\n",
       "      <th>Consumer Services</th>\n",
       "      <td>1.702050</td>\n",
       "    </tr>\n",
       "    <tr>\n",
       "      <th>Health Care</th>\n",
       "      <td>1.650945</td>\n",
       "    </tr>\n",
       "    <tr>\n",
       "      <th>Technology</th>\n",
       "      <td>1.548932</td>\n",
       "    </tr>\n",
       "  </tbody>\n",
       "</table>\n",
       "</div>"
      ],
      "text/plain": [
       "                       Volatility\n",
       "Sector                           \n",
       "Consumer Non-Durables    1.389738\n",
       "Consumer Services        1.702050\n",
       "Health Care              1.650945\n",
       "Technology               1.548932"
      ]
     },
     "execution_count": 125,
     "metadata": {},
     "output_type": "execute_result"
    }
   ],
   "source": [
    "# Sector analysis :  Volatility\n",
    "\n",
    "volatility_by_sector = y.groupby('Sector')['Volatility'].mean()\n",
    "\n",
    "volatility_by_sector = pd.DataFrame(volatility_by_sector)\n",
    "volatility_by_sector.columns = ['Volatility']\n",
    "\n",
    "volatility_by_sector"
   ]
  },
  {
   "cell_type": "code",
   "execution_count": 126,
   "metadata": {},
   "outputs": [
    {
     "data": {
      "text/html": [
       "<div>\n",
       "<style scoped>\n",
       "    .dataframe tbody tr th:only-of-type {\n",
       "        vertical-align: middle;\n",
       "    }\n",
       "\n",
       "    .dataframe tbody tr th {\n",
       "        vertical-align: top;\n",
       "    }\n",
       "\n",
       "    .dataframe thead th {\n",
       "        text-align: right;\n",
       "    }\n",
       "</style>\n",
       "<table border=\"1\" class=\"dataframe\">\n",
       "  <thead>\n",
       "    <tr style=\"text-align: right;\">\n",
       "      <th></th>\n",
       "      <th>Sharpe Ratio</th>\n",
       "    </tr>\n",
       "    <tr>\n",
       "      <th>Sector</th>\n",
       "      <th></th>\n",
       "    </tr>\n",
       "  </thead>\n",
       "  <tbody>\n",
       "    <tr>\n",
       "      <th>Consumer Non-Durables</th>\n",
       "      <td>-0.054354</td>\n",
       "    </tr>\n",
       "    <tr>\n",
       "      <th>Consumer Services</th>\n",
       "      <td>0.028115</td>\n",
       "    </tr>\n",
       "    <tr>\n",
       "      <th>Health Care</th>\n",
       "      <td>-0.023295</td>\n",
       "    </tr>\n",
       "    <tr>\n",
       "      <th>Technology</th>\n",
       "      <td>0.020635</td>\n",
       "    </tr>\n",
       "  </tbody>\n",
       "</table>\n",
       "</div>"
      ],
      "text/plain": [
       "                       Sharpe Ratio\n",
       "Sector                             \n",
       "Consumer Non-Durables     -0.054354\n",
       "Consumer Services          0.028115\n",
       "Health Care               -0.023295\n",
       "Technology                 0.020635"
      ]
     },
     "execution_count": 126,
     "metadata": {},
     "output_type": "execute_result"
    }
   ],
   "source": [
    "# Sector analysis : Sharpe Ratio\n",
    "\n",
    "sharpe_ratio_by_sector = y.groupby('Sector')['Sharpe Ratio'].mean()\n",
    "sharpe_ratio_by_sector = pd.DataFrame(sharpe_ratio_by_sector)\n",
    "sharpe_ratio_by_sector.columns = ['Sharpe Ratio']\n",
    "\n",
    "sharpe_ratio_by_sector"
   ]
  },
  {
   "cell_type": "code",
   "execution_count": null,
   "metadata": {},
   "outputs": [],
   "source": []
  }
 ],
 "metadata": {
  "kernelspec": {
   "display_name": "Python 3",
   "language": "python",
   "name": "python3"
  },
  "language_info": {
   "codemirror_mode": {
    "name": "ipython",
    "version": 3
   },
   "file_extension": ".py",
   "mimetype": "text/x-python",
   "name": "python",
   "nbconvert_exporter": "python",
   "pygments_lexer": "ipython3",
   "version": "3.7.1"
  }
 },
 "nbformat": 4,
 "nbformat_minor": 2
}
